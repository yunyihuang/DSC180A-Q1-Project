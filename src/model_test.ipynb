{
 "cells": [
  {
   "cell_type": "code",
   "execution_count": 5,
   "id": "8390637c",
   "metadata": {},
   "outputs": [],
   "source": [
    "from sklearn.model_selection import train_test_split\n",
    "from sklearn.metrics import accuracy_score\n",
    "from sklearn.metrics import confusion_matrix\n",
    "from sklearn.metrics import precision_recall_fscore_support\n",
    "from sklearn.pipeline import Pipeline\n",
    "from sklearn.feature_extraction.text import TfidfVectorizer\n",
    "from sklearn.feature_extraction.text import CountVectorizer\n",
    "from sklearn.multiclass import OneVsRestClassifier\n",
    "from sklearn.compose import ColumnTransformer\n",
    "from sklearn.svm import SVC\n",
    "from sklearn.ensemble import RandomForestClassifier, AdaBoostClassifier\n",
    "\n",
    "from make_dataset import load_data\n",
    "from build_features import get_features"
   ]
  },
  {
   "cell_type": "code",
   "execution_count": 11,
   "id": "2db7cb57",
   "metadata": {},
   "outputs": [],
   "source": [
    "def RB_classifier(filepath, svc_params, rf_params):\n",
    "    \"\"\"model for the first task\n",
    "\n",
    "    Args:\n",
    "        filepath (str): filepath of the raw data file\n",
    "\n",
    "    Returns:\n",
    "        dict: dictionary of models' performance\n",
    "    \"\"\"\n",
    "    data = load_data(filepath)\n",
    "    X, y = get_features(data, 1)\n",
    "    X_train, X_test, y_train, y_test = train_test_split(X, y, test_size=0.2, random_state=42)\n",
    "    models = [SVC(**svc_params), \n",
    "              RandomForestClassifier(**rf_params)]\n",
    "\n",
    "    preprocessor = ColumnTransformer(\n",
    "        transformers=[\n",
    "            (\"bog\", CountVectorizer(), 'cleaned_text'),\n",
    "            (\"tfidf\", TfidfVectorizer(), 'cleaned_text')]\n",
    "    )\n",
    "\n",
    "    res = {}\n",
    "    for model in models:\n",
    "        model_name = type(model).__name__\n",
    "        \n",
    "        pl = Pipeline([\n",
    "                    ('preprocessor', preprocessor),\n",
    "                    ('clf', OneVsRestClassifier(model, n_jobs=1)),\n",
    "                ])\n",
    "        \n",
    "        pl.fit(X_train, y_train)\n",
    "        preds = pl.predict(X_test)\n",
    "        accuracy = accuracy_score(y_test, preds)\n",
    "        matrix = confusion_matrix(y_test, preds)\n",
    "        stats = precision_recall_fscore_support(y_test, preds,average='binary')\n",
    "\n",
    "        model_res = {'Accuracy':accuracy,\n",
    "                     'Confusion Matrix':matrix,\n",
    "                     'Precision':stats[0],\n",
    "                     'Recall':stats[1],\n",
    "                     'F1 score':stats[2]}\n",
    "        res[model_name] = model_res\n",
    "\n",
    "    return res"
   ]
  },
  {
   "cell_type": "code",
   "execution_count": 12,
   "id": "195fe89c",
   "metadata": {},
   "outputs": [],
   "source": [
    "import json"
   ]
  },
  {
   "cell_type": "code",
   "execution_count": 13,
   "id": "58742dd6",
   "metadata": {},
   "outputs": [],
   "source": [
    "with open('/Users/yunyihuang/Desktop/DSC180A-Q1-Project/config/param-A.json') as fh:\n",
    "    paramA = json.load(fh)"
   ]
  },
  {
   "cell_type": "code",
   "execution_count": 14,
   "id": "d42b1f99",
   "metadata": {},
   "outputs": [
    {
     "data": {
      "text/plain": [
       "{'svc': {'C': 1, 'kernel': 'rbf', 'random_state': 1192},\n",
       " 'rf': {'n_estimators': 100,\n",
       "  'criterion': 'gini',\n",
       "  'max_depth': 30,\n",
       "  'random_state': 1192}}"
      ]
     },
     "execution_count": 14,
     "metadata": {},
     "output_type": "execute_result"
    }
   ],
   "source": [
    "paramA"
   ]
  },
  {
   "cell_type": "code",
   "execution_count": 15,
   "id": "c64c7df5",
   "metadata": {},
   "outputs": [
    {
     "name": "stderr",
     "output_type": "stream",
     "text": [
      "/Users/yunyihuang/Desktop/DSC180A-Q1-Project/src/build_features.py:51: SettingWithCopyWarning: \n",
      "A value is trying to be set on a copy of a slice from a DataFrame.\n",
      "Try using .loc[row_indexer,col_indexer] = value instead\n",
      "\n",
      "See the caveats in the documentation: https://pandas.pydata.org/pandas-docs/stable/user_guide/indexing.html#returning-a-view-versus-a-copy\n",
      "  df['cleaned_text'] = df['text'].apply(process_text)\n",
      "/Users/yunyihuang/Desktop/DSC180A-Q1-Project/src/build_features.py:56: SettingWithCopyWarning: \n",
      "A value is trying to be set on a copy of a slice from a DataFrame\n",
      "\n",
      "See the caveats in the documentation: https://pandas.pydata.org/pandas-docs/stable/user_guide/indexing.html#returning-a-view-versus-a-copy\n",
      "  df_bkt.drop_duplicates(inplace=True, ignore_index=True)\n"
     ]
    },
    {
     "data": {
      "text/plain": [
       "{'SVC': {'Accuracy': 0.6991666666666667,\n",
       "  'Confusion Matrix': array([[421, 166],\n",
       "         [195, 418]]),\n",
       "  'Precision': 0.7157534246575342,\n",
       "  'Recall': 0.6818923327895595,\n",
       "  'F1 score': 0.6984126984126984},\n",
       " 'RandomForestClassifier': {'Accuracy': 0.6975,\n",
       "  'Confusion Matrix': array([[412, 175],\n",
       "         [188, 425]]),\n",
       "  'Precision': 0.7083333333333334,\n",
       "  'Recall': 0.6933115823817292,\n",
       "  'F1 score': 0.7007419620774938}}"
      ]
     },
     "execution_count": 15,
     "metadata": {},
     "output_type": "execute_result"
    }
   ],
   "source": [
    "filepath = '/Users/yunyihuang/Desktop/DSC180A-Q1-Project/notebooks/SentimentLabeled_10112022.csv'\n",
    "RB_classifier(filepath, paramA['svc'], paramA['rf'])"
   ]
  },
  {
   "cell_type": "code",
   "execution_count": 16,
   "id": "58e3b794",
   "metadata": {},
   "outputs": [],
   "source": [
    "from sklearn.model_selection import train_test_split\n",
    "from sklearn.pipeline import Pipeline\n",
    "from sklearn.feature_extraction.text import TfidfVectorizer\n",
    "from sklearn.feature_extraction.text import CountVectorizer\n",
    "from sklearn.compose import ColumnTransformer\n",
    "from sklearn.ensemble import GradientBoostingRegressor\n",
    "from lightgbm import LGBMRegressor\n",
    "from sklearn.linear_model import ElasticNet\n",
    "from sklearn.metrics import mean_squared_error\n",
    "\n",
    "from make_dataset import load_data\n",
    "from build_features import get_features\n",
    "\n",
    "def SS_regressor(filepath, gb_params, en_params):\n",
    "    \"\"\"model for the second task\n",
    "\n",
    "    Args:\n",
    "        filepath (str): filepath of the raw data file\n",
    "        gb_params (dict): tuned parameters for Gradient Boosting\n",
    "        en_params (dict): tuned parameters for Elastic Net\n",
    "\n",
    "    Returns:\n",
    "        dict: dictionary of models' performance\n",
    "    \"\"\"\n",
    "    data = load_data(filepath)\n",
    "    X, y = get_features(data, 2)\n",
    "    X_train, X_test, y_train, y_test = train_test_split(X, y, test_size=0.2, random_state=42)\n",
    "    models = [GradientBoostingRegressor(**gb_params), \n",
    "              LGBMRegressor(),\n",
    "              ElasticNet(**en_params)]\n",
    "\n",
    "    preprocessor = ColumnTransformer(\n",
    "        transformers=[\n",
    "            (\"bog\", CountVectorizer(), 'cleaned_text'),\n",
    "            (\"tfidf\", TfidfVectorizer(), 'cleaned_text')]\n",
    "    )\n",
    "\n",
    "    res = {}\n",
    "    for model in models:\n",
    "        model_name = type(model).__name__\n",
    "        \n",
    "        pl = Pipeline([\n",
    "                    ('preprocessor', preprocessor),\n",
    "                    ('reg', model),\n",
    "                ])\n",
    "        \n",
    "        pl.fit(X_train, y_train)\n",
    "        preds = pl.predict(X_test)\n",
    "        mse = mean_squared_error(y_test, preds)\n",
    "\n",
    "        model_res = {'Mean Squared Error':mse}\n",
    "        res[model_name] = model_res\n",
    "\n",
    "    return res"
   ]
  },
  {
   "cell_type": "code",
   "execution_count": 17,
   "id": "cb77d0c5",
   "metadata": {},
   "outputs": [],
   "source": [
    "with open('/Users/yunyihuang/Desktop/DSC180A-Q1-Project/config/param-B.json') as fh:\n",
    "    paramB = json.load(fh)"
   ]
  },
  {
   "cell_type": "code",
   "execution_count": 19,
   "id": "aba71ec2",
   "metadata": {},
   "outputs": [
    {
     "name": "stderr",
     "output_type": "stream",
     "text": [
      "/Users/yunyihuang/Desktop/DSC180A-Q1-Project/src/build_features.py:51: SettingWithCopyWarning: \n",
      "A value is trying to be set on a copy of a slice from a DataFrame.\n",
      "Try using .loc[row_indexer,col_indexer] = value instead\n",
      "\n",
      "See the caveats in the documentation: https://pandas.pydata.org/pandas-docs/stable/user_guide/indexing.html#returning-a-view-versus-a-copy\n",
      "  df['cleaned_text'] = df['text'].apply(process_text)\n",
      "/Users/yunyihuang/Desktop/DSC180A-Q1-Project/src/build_features.py:71: SettingWithCopyWarning: \n",
      "A value is trying to be set on a copy of a slice from a DataFrame\n",
      "\n",
      "See the caveats in the documentation: https://pandas.pydata.org/pandas-docs/stable/user_guide/indexing.html#returning-a-view-versus-a-copy\n",
      "  df_ss.drop_duplicates(inplace=True, ignore_index=True)\n",
      "/Users/yunyihuang/Desktop/DSC180A-Q1-Project/src/build_features.py:73: SettingWithCopyWarning: \n",
      "A value is trying to be set on a copy of a slice from a DataFrame\n",
      "\n",
      "See the caveats in the documentation: https://pandas.pydata.org/pandas-docs/stable/user_guide/indexing.html#returning-a-view-versus-a-copy\n",
      "  df_ss.dropna(inplace=True)\n",
      "/opt/anaconda3/lib/python3.9/site-packages/sklearn/utils/validation.py:63: DataConversionWarning: A column-vector y was passed when a 1d array was expected. Please change the shape of y to (n_samples, ), for example using ravel().\n",
      "  return f(*args, **kwargs)\n",
      "/opt/anaconda3/lib/python3.9/site-packages/sklearn/utils/validation.py:63: DataConversionWarning: A column-vector y was passed when a 1d array was expected. Please change the shape of y to (n_samples, ), for example using ravel().\n",
      "  return f(*args, **kwargs)\n"
     ]
    }
   ],
   "source": [
    "example_res = SS_regressor(filepath, paramB['gb'], paramB['en'])"
   ]
  },
  {
   "cell_type": "code",
   "execution_count": 20,
   "id": "f2596be7",
   "metadata": {},
   "outputs": [],
   "source": [
    "with open('result.json', 'w') as fp:\n",
    "    json.dump(example_res, fp)"
   ]
  },
  {
   "cell_type": "code",
   "execution_count": null,
   "id": "173c7cc7",
   "metadata": {},
   "outputs": [],
   "source": []
  }
 ],
 "metadata": {
  "kernelspec": {
   "display_name": "Python 3 (ipykernel)",
   "language": "python",
   "name": "python3"
  },
  "language_info": {
   "codemirror_mode": {
    "name": "ipython",
    "version": 3
   },
   "file_extension": ".py",
   "mimetype": "text/x-python",
   "name": "python",
   "nbconvert_exporter": "python",
   "pygments_lexer": "ipython3",
   "version": "3.9.7"
  }
 },
 "nbformat": 4,
 "nbformat_minor": 5
}
