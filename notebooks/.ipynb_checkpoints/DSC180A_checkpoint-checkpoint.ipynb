{
 "cells": [
  {
   "cell_type": "markdown",
   "id": "932aedab",
   "metadata": {},
   "source": [
    "# DSC 180A Checkpoint"
   ]
  },
  {
   "cell_type": "markdown",
   "id": "208a0da1",
   "metadata": {},
   "source": [
    "## Import packages & Data"
   ]
  },
  {
   "cell_type": "code",
   "execution_count": 261,
   "id": "46fb442b",
   "metadata": {},
   "outputs": [],
   "source": [
    "import numpy as np\n",
    "import pandas as pd\n",
    "import matplotlib.pyplot\n",
    "import seaborn as sns\n",
    "import warnings\n",
    "warnings.filterwarnings('ignore')\n",
    "from collections import defaultdict\n",
    "import string\n",
    "import math\n",
    "import nltk\n",
    "import emoji\n",
    "from nltk.corpus import stopwords\n",
    "from sklearn.feature_extraction.text import TfidfVectorizer\n",
    "from sklearn.feature_extraction.text import CountVectorizer\n",
    "\n",
    "from sklearn.utils import resample\n",
    "from sklearn.metrics import accuracy_score\n",
    "from sklearn.metrics import confusion_matrix\n",
    "from sklearn.pipeline import Pipeline\n",
    "from sklearn.model_selection import train_test_split\n",
    "from sklearn.multiclass import OneVsRestClassifier\n",
    "from sklearn.compose import ColumnTransformer\n",
    "from sklearn.neural_network import MLPClassifier\n",
    "from sklearn.neighbors import KNeighborsClassifier\n",
    "from sklearn.svm import SVC\n",
    "from sklearn.gaussian_process import GaussianProcessClassifier\n",
    "from sklearn.tree import DecisionTreeClassifier\n",
    "from sklearn.ensemble import RandomForestClassifier, AdaBoostClassifier\n",
    "from sklearn.naive_bayes import GaussianNB\n",
    "from sklearn.metrics import precision_recall_fscore_support\n",
    "from sklearn.metrics import mean_squared_error\n",
    "from sklearn.ensemble import GradientBoostingRegressor\n",
    "from lightgbm import LGBMRegressor\n",
    "from sklearn.linear_model import ElasticNet\n",
    "from sklearn.metrics import mean_squared_error"
   ]
  },
  {
   "cell_type": "code",
   "execution_count": 228,
   "id": "2a2823d7",
   "metadata": {
    "scrolled": true
   },
   "outputs": [
    {
     "data": {
      "text/html": [
       "<div>\n",
       "<style scoped>\n",
       "    .dataframe tbody tr th:only-of-type {\n",
       "        vertical-align: middle;\n",
       "    }\n",
       "\n",
       "    .dataframe tbody tr th {\n",
       "        vertical-align: top;\n",
       "    }\n",
       "\n",
       "    .dataframe thead th {\n",
       "        text-align: right;\n",
       "    }\n",
       "</style>\n",
       "<table border=\"1\" class=\"dataframe\">\n",
       "  <thead>\n",
       "    <tr style=\"text-align: right;\">\n",
       "      <th></th>\n",
       "      <th>date</th>\n",
       "      <th>text</th>\n",
       "      <th>userid_str</th>\n",
       "      <th>status_id_str</th>\n",
       "      <th>id</th>\n",
       "      <th>name</th>\n",
       "      <th>birth</th>\n",
       "      <th>term_partisanship</th>\n",
       "      <th>term_type</th>\n",
       "      <th>term_state</th>\n",
       "      <th>country</th>\n",
       "      <th>Bucket</th>\n",
       "      <th>SentimentScore</th>\n",
       "      <th>version</th>\n",
       "    </tr>\n",
       "  </thead>\n",
       "  <tbody>\n",
       "    <tr>\n",
       "      <th>0</th>\n",
       "      <td>2015-09-28</td>\n",
       "      <td>I commend all of law enforcement for the secur...</td>\n",
       "      <td>156333623.0</td>\n",
       "      <td>6.485341e+17</td>\n",
       "      <td>3517566</td>\n",
       "      <td>Al Green</td>\n",
       "      <td>1947-09-01</td>\n",
       "      <td>Democrat</td>\n",
       "      <td>rep</td>\n",
       "      <td>TX</td>\n",
       "      <td>China</td>\n",
       "      <td>2 or 3</td>\n",
       "      <td>NaN</td>\n",
       "      <td>2019_batch1</td>\n",
       "    </tr>\n",
       "    <tr>\n",
       "      <th>1</th>\n",
       "      <td>2019-02-24</td>\n",
       "      <td>Socialist tyrant Maduro starves, tortures his ...</td>\n",
       "      <td>235312723.0</td>\n",
       "      <td>1.099734e+18</td>\n",
       "      <td>3559992</td>\n",
       "      <td>Scott DesJarlais</td>\n",
       "      <td>1964-02-21</td>\n",
       "      <td>Republican</td>\n",
       "      <td>rep</td>\n",
       "      <td>TN</td>\n",
       "      <td>China</td>\n",
       "      <td>1</td>\n",
       "      <td>2.0</td>\n",
       "      <td>2019_batch1</td>\n",
       "    </tr>\n",
       "    <tr>\n",
       "      <th>2</th>\n",
       "      <td>2019-02-24</td>\n",
       "      <td>Socialist tyrant Maduro starves, tortures his ...</td>\n",
       "      <td>235312723.0</td>\n",
       "      <td>1.099734e+18</td>\n",
       "      <td>3559992</td>\n",
       "      <td>Scott DesJarlais</td>\n",
       "      <td>1964-02-21</td>\n",
       "      <td>Republican</td>\n",
       "      <td>rep</td>\n",
       "      <td>TN</td>\n",
       "      <td>Iran</td>\n",
       "      <td>2 or 3</td>\n",
       "      <td>NaN</td>\n",
       "      <td>2019_batch1</td>\n",
       "    </tr>\n",
       "    <tr>\n",
       "      <th>3</th>\n",
       "      <td>2014-06-24</td>\n",
       "      <td>Inhofe: The Canadians have already had convers...</td>\n",
       "      <td>20546536.0</td>\n",
       "      <td>4.815273e+17</td>\n",
       "      <td>3468157</td>\n",
       "      <td>James M. Inhofe</td>\n",
       "      <td>1934-11-17</td>\n",
       "      <td>Republican</td>\n",
       "      <td>sen</td>\n",
       "      <td>OK</td>\n",
       "      <td>Canada</td>\n",
       "      <td>2 or 3</td>\n",
       "      <td>NaN</td>\n",
       "      <td>2019_batch1</td>\n",
       "    </tr>\n",
       "    <tr>\n",
       "      <th>4</th>\n",
       "      <td>2015-07-14</td>\n",
       "      <td>Statement on Iran nuclear agreement. http://t....</td>\n",
       "      <td>18773159.0</td>\n",
       "      <td>6.210401e+17</td>\n",
       "      <td>3833428</td>\n",
       "      <td>Scott Perry</td>\n",
       "      <td>1962-05-27</td>\n",
       "      <td>Republican</td>\n",
       "      <td>rep</td>\n",
       "      <td>PA</td>\n",
       "      <td>Iran</td>\n",
       "      <td>2 or 3</td>\n",
       "      <td>NaN</td>\n",
       "      <td>2019_batch1</td>\n",
       "    </tr>\n",
       "  </tbody>\n",
       "</table>\n",
       "</div>"
      ],
      "text/plain": [
       "         date                                               text   userid_str  \\\n",
       "0  2015-09-28  I commend all of law enforcement for the secur...  156333623.0   \n",
       "1  2019-02-24  Socialist tyrant Maduro starves, tortures his ...  235312723.0   \n",
       "2  2019-02-24  Socialist tyrant Maduro starves, tortures his ...  235312723.0   \n",
       "3  2014-06-24  Inhofe: The Canadians have already had convers...   20546536.0   \n",
       "4  2015-07-14  Statement on Iran nuclear agreement. http://t....   18773159.0   \n",
       "\n",
       "   status_id_str       id              name       birth term_partisanship  \\\n",
       "0   6.485341e+17  3517566          Al Green  1947-09-01          Democrat   \n",
       "1   1.099734e+18  3559992  Scott DesJarlais  1964-02-21        Republican   \n",
       "2   1.099734e+18  3559992  Scott DesJarlais  1964-02-21        Republican   \n",
       "3   4.815273e+17  3468157   James M. Inhofe  1934-11-17        Republican   \n",
       "4   6.210401e+17  3833428       Scott Perry  1962-05-27        Republican   \n",
       "\n",
       "  term_type term_state country  Bucket  SentimentScore      version  \n",
       "0       rep         TX   China  2 or 3             NaN  2019_batch1  \n",
       "1       rep         TN   China       1             2.0  2019_batch1  \n",
       "2       rep         TN    Iran  2 or 3             NaN  2019_batch1  \n",
       "3       sen         OK  Canada  2 or 3             NaN  2019_batch1  \n",
       "4       rep         PA    Iran  2 or 3             NaN  2019_batch1  "
      ]
     },
     "execution_count": 228,
     "metadata": {},
     "output_type": "execute_result"
    }
   ],
   "source": [
    "# read in data\n",
    "data = pd.read_csv(\"SentimentLabeled_10112022.csv\")\n",
    "data.head()"
   ]
  },
  {
   "cell_type": "code",
   "execution_count": 229,
   "id": "ea409bb5",
   "metadata": {
    "scrolled": true
   },
   "outputs": [
    {
     "data": {
      "text/plain": [
       "(15846, 14)"
      ]
     },
     "execution_count": 229,
     "metadata": {},
     "output_type": "execute_result"
    }
   ],
   "source": [
    "data.shape"
   ]
  },
  {
   "cell_type": "code",
   "execution_count": 230,
   "id": "0fbcdc46",
   "metadata": {},
   "outputs": [
    {
     "name": "stdout",
     "output_type": "stream",
     "text": [
      "<class 'pandas.core.frame.DataFrame'>\n",
      "RangeIndex: 15846 entries, 0 to 15845\n",
      "Data columns (total 14 columns):\n",
      " #   Column             Non-Null Count  Dtype  \n",
      "---  ------             --------------  -----  \n",
      " 0   date               15846 non-null  object \n",
      " 1   text               15846 non-null  object \n",
      " 2   userid_str         15642 non-null  float64\n",
      " 3   status_id_str      8074 non-null   float64\n",
      " 4   id                 15846 non-null  int64  \n",
      " 5   name               15846 non-null  object \n",
      " 6   birth              15642 non-null  object \n",
      " 7   term_partisanship  15642 non-null  object \n",
      " 8   term_type          15846 non-null  object \n",
      " 9   term_state         15846 non-null  object \n",
      " 10  country            15846 non-null  object \n",
      " 11  Bucket             14614 non-null  object \n",
      " 12  SentimentScore     12259 non-null  float64\n",
      " 13  version            15642 non-null  object \n",
      "dtypes: float64(3), int64(1), object(10)\n",
      "memory usage: 1.7+ MB\n"
     ]
    }
   ],
   "source": [
    "data.info()"
   ]
  },
  {
   "cell_type": "code",
   "execution_count": 231,
   "id": "0f6d2a0a",
   "metadata": {},
   "outputs": [
    {
     "data": {
      "text/plain": [
       "date                  0.000000\n",
       "text                  0.000000\n",
       "userid_str            1.287391\n",
       "status_id_str        49.047078\n",
       "id                    0.000000\n",
       "name                  0.000000\n",
       "birth                 1.287391\n",
       "term_partisanship     1.287391\n",
       "term_type             0.000000\n",
       "term_state            0.000000\n",
       "country               0.000000\n",
       "Bucket                7.774833\n",
       "SentimentScore       22.636628\n",
       "version               1.287391\n",
       "dtype: float64"
      ]
     },
     "execution_count": 231,
     "metadata": {},
     "output_type": "execute_result"
    }
   ],
   "source": [
    "data.isnull().sum() * 100 / len(data)"
   ]
  },
  {
   "cell_type": "code",
   "execution_count": 232,
   "id": "979b7310",
   "metadata": {},
   "outputs": [
    {
     "data": {
      "text/plain": [
       "13407"
      ]
     },
     "execution_count": 232,
     "metadata": {},
     "output_type": "execute_result"
    }
   ],
   "source": [
    "data.isna().sum().sum()"
   ]
  },
  {
   "cell_type": "markdown",
   "id": "9e6c6dcc",
   "metadata": {},
   "source": [
    "## Data Cleaning"
   ]
  },
  {
   "cell_type": "code",
   "execution_count": 233,
   "id": "209e7fa9",
   "metadata": {},
   "outputs": [
    {
     "data": {
      "text/plain": [
       "1         10797\n",
       "2 or 3     3344\n",
       "2           292\n",
       "1.0         122\n",
       "3            48\n",
       "2.0          10\n",
       "3.0           1\n",
       "Name: Bucket, dtype: int64"
      ]
     },
     "execution_count": 233,
     "metadata": {},
     "output_type": "execute_result"
    }
   ],
   "source": [
    "data.Bucket.value_counts()"
   ]
  },
  {
   "cell_type": "code",
   "execution_count": 234,
   "id": "7ff1f20b",
   "metadata": {},
   "outputs": [
    {
     "data": {
      "text/plain": [
       "(15509, 14)"
      ]
     },
     "execution_count": 234,
     "metadata": {},
     "output_type": "execute_result"
    }
   ],
   "source": [
    "# drop the duplicate data \n",
    "data.drop_duplicates(inplace=True)\n",
    "data.shape"
   ]
  },
  {
   "cell_type": "code",
   "execution_count": 235,
   "id": "0b27f3b6",
   "metadata": {},
   "outputs": [],
   "source": [
    "# helper functions for data cleaning\n",
    "def clean_buckets(bucket_num):\n",
    "    if bucket_num == \"1\" or bucket_num == \"1.0\":\n",
    "        return 1 # bucket1\n",
    "    else:\n",
    "        return 0 # non-bucket1"
   ]
  },
  {
   "cell_type": "code",
   "execution_count": 236,
   "id": "5dd227d0",
   "metadata": {},
   "outputs": [],
   "source": [
    "# cleaning & wrangling\n",
    "\n",
    "# uniform data format\n",
    "data[\"term_partisanship\"] = data[\"term_partisanship\"].str.strip(\"{}\")\n",
    "data[\"term_type\"] = data[\"term_type\"].str.strip(\"{}\")\n",
    "data[\"term_state\"] = data[\"term_state\"].str.strip(\"{}\")\n",
    "\n",
    "# feature engineering\n",
    "data['text_length'] = data['text'].apply(lambda x: len(x.split()))\n",
    "data['cleaned_buckets'] = data['Bucket'].apply(clean_buckets)\n",
    "data[['date','birth']] = data[['date','birth']].apply(pd.to_datetime)\n",
    "\n",
    "# filtering abnormal data\n",
    "#data = data[data['SentimentScore'] <= 5]\n",
    "data.reset_index(drop=True, inplace=True)"
   ]
  },
  {
   "cell_type": "code",
   "execution_count": 237,
   "id": "0069fca5",
   "metadata": {},
   "outputs": [
    {
     "data": {
      "text/plain": [
       "1         10564\n",
       "2 or 3     3248\n",
       "2           288\n",
       "1.0         122\n",
       "3            47\n",
       "2.0          10\n",
       "3.0           1\n",
       "Name: Bucket, dtype: int64"
      ]
     },
     "execution_count": 237,
     "metadata": {},
     "output_type": "execute_result"
    }
   ],
   "source": [
    "data.Bucket.value_counts()"
   ]
  },
  {
   "cell_type": "code",
   "execution_count": 238,
   "id": "a3dddda0",
   "metadata": {},
   "outputs": [
    {
     "data": {
      "text/plain": [
       "1    10686\n",
       "0     4823\n",
       "Name: cleaned_buckets, dtype: int64"
      ]
     },
     "execution_count": 238,
     "metadata": {},
     "output_type": "execute_result"
    }
   ],
   "source": [
    "data.cleaned_buckets.value_counts()"
   ]
  },
  {
   "cell_type": "code",
   "execution_count": 239,
   "id": "8281bb8b",
   "metadata": {},
   "outputs": [
    {
     "data": {
      "text/plain": [
       "12018"
      ]
     },
     "execution_count": 239,
     "metadata": {},
     "output_type": "execute_result"
    }
   ],
   "source": [
    "data.SentimentScore.value_counts().sum()"
   ]
  },
  {
   "cell_type": "code",
   "execution_count": 240,
   "id": "5b2f1e05",
   "metadata": {},
   "outputs": [
    {
     "name": "stdout",
     "output_type": "stream",
     "text": [
      "(15509, 16)\n"
     ]
    },
    {
     "data": {
      "text/html": [
       "<div>\n",
       "<style scoped>\n",
       "    .dataframe tbody tr th:only-of-type {\n",
       "        vertical-align: middle;\n",
       "    }\n",
       "\n",
       "    .dataframe tbody tr th {\n",
       "        vertical-align: top;\n",
       "    }\n",
       "\n",
       "    .dataframe thead th {\n",
       "        text-align: right;\n",
       "    }\n",
       "</style>\n",
       "<table border=\"1\" class=\"dataframe\">\n",
       "  <thead>\n",
       "    <tr style=\"text-align: right;\">\n",
       "      <th></th>\n",
       "      <th>date</th>\n",
       "      <th>text</th>\n",
       "      <th>userid_str</th>\n",
       "      <th>status_id_str</th>\n",
       "      <th>id</th>\n",
       "      <th>name</th>\n",
       "      <th>birth</th>\n",
       "      <th>term_partisanship</th>\n",
       "      <th>term_type</th>\n",
       "      <th>term_state</th>\n",
       "      <th>country</th>\n",
       "      <th>Bucket</th>\n",
       "      <th>SentimentScore</th>\n",
       "      <th>version</th>\n",
       "      <th>text_length</th>\n",
       "      <th>cleaned_buckets</th>\n",
       "    </tr>\n",
       "  </thead>\n",
       "  <tbody>\n",
       "    <tr>\n",
       "      <th>0</th>\n",
       "      <td>2015-09-28</td>\n",
       "      <td>I commend all of law enforcement for the secur...</td>\n",
       "      <td>156333623.0</td>\n",
       "      <td>6.485341e+17</td>\n",
       "      <td>3517566</td>\n",
       "      <td>Al Green</td>\n",
       "      <td>1947-09-01</td>\n",
       "      <td>Democrat</td>\n",
       "      <td>rep</td>\n",
       "      <td>TX</td>\n",
       "      <td>China</td>\n",
       "      <td>2 or 3</td>\n",
       "      <td>NaN</td>\n",
       "      <td>2019_batch1</td>\n",
       "      <td>22</td>\n",
       "      <td>0</td>\n",
       "    </tr>\n",
       "    <tr>\n",
       "      <th>1</th>\n",
       "      <td>2019-02-24</td>\n",
       "      <td>Socialist tyrant Maduro starves, tortures his ...</td>\n",
       "      <td>235312723.0</td>\n",
       "      <td>1.099734e+18</td>\n",
       "      <td>3559992</td>\n",
       "      <td>Scott DesJarlais</td>\n",
       "      <td>1964-02-21</td>\n",
       "      <td>Republican</td>\n",
       "      <td>rep</td>\n",
       "      <td>TN</td>\n",
       "      <td>China</td>\n",
       "      <td>1</td>\n",
       "      <td>2.0</td>\n",
       "      <td>2019_batch1</td>\n",
       "      <td>44</td>\n",
       "      <td>1</td>\n",
       "    </tr>\n",
       "    <tr>\n",
       "      <th>2</th>\n",
       "      <td>2019-02-24</td>\n",
       "      <td>Socialist tyrant Maduro starves, tortures his ...</td>\n",
       "      <td>235312723.0</td>\n",
       "      <td>1.099734e+18</td>\n",
       "      <td>3559992</td>\n",
       "      <td>Scott DesJarlais</td>\n",
       "      <td>1964-02-21</td>\n",
       "      <td>Republican</td>\n",
       "      <td>rep</td>\n",
       "      <td>TN</td>\n",
       "      <td>Iran</td>\n",
       "      <td>2 or 3</td>\n",
       "      <td>NaN</td>\n",
       "      <td>2019_batch1</td>\n",
       "      <td>44</td>\n",
       "      <td>0</td>\n",
       "    </tr>\n",
       "    <tr>\n",
       "      <th>3</th>\n",
       "      <td>2014-06-24</td>\n",
       "      <td>Inhofe: The Canadians have already had convers...</td>\n",
       "      <td>20546536.0</td>\n",
       "      <td>4.815273e+17</td>\n",
       "      <td>3468157</td>\n",
       "      <td>James M. Inhofe</td>\n",
       "      <td>1934-11-17</td>\n",
       "      <td>Republican</td>\n",
       "      <td>sen</td>\n",
       "      <td>OK</td>\n",
       "      <td>Canada</td>\n",
       "      <td>2 or 3</td>\n",
       "      <td>NaN</td>\n",
       "      <td>2019_batch1</td>\n",
       "      <td>23</td>\n",
       "      <td>0</td>\n",
       "    </tr>\n",
       "    <tr>\n",
       "      <th>4</th>\n",
       "      <td>2015-07-14</td>\n",
       "      <td>Statement on Iran nuclear agreement. http://t....</td>\n",
       "      <td>18773159.0</td>\n",
       "      <td>6.210401e+17</td>\n",
       "      <td>3833428</td>\n",
       "      <td>Scott Perry</td>\n",
       "      <td>1962-05-27</td>\n",
       "      <td>Republican</td>\n",
       "      <td>rep</td>\n",
       "      <td>PA</td>\n",
       "      <td>Iran</td>\n",
       "      <td>2 or 3</td>\n",
       "      <td>NaN</td>\n",
       "      <td>2019_batch1</td>\n",
       "      <td>6</td>\n",
       "      <td>0</td>\n",
       "    </tr>\n",
       "  </tbody>\n",
       "</table>\n",
       "</div>"
      ],
      "text/plain": [
       "        date                                               text   userid_str  \\\n",
       "0 2015-09-28  I commend all of law enforcement for the secur...  156333623.0   \n",
       "1 2019-02-24  Socialist tyrant Maduro starves, tortures his ...  235312723.0   \n",
       "2 2019-02-24  Socialist tyrant Maduro starves, tortures his ...  235312723.0   \n",
       "3 2014-06-24  Inhofe: The Canadians have already had convers...   20546536.0   \n",
       "4 2015-07-14  Statement on Iran nuclear agreement. http://t....   18773159.0   \n",
       "\n",
       "   status_id_str       id              name      birth term_partisanship  \\\n",
       "0   6.485341e+17  3517566          Al Green 1947-09-01          Democrat   \n",
       "1   1.099734e+18  3559992  Scott DesJarlais 1964-02-21        Republican   \n",
       "2   1.099734e+18  3559992  Scott DesJarlais 1964-02-21        Republican   \n",
       "3   4.815273e+17  3468157   James M. Inhofe 1934-11-17        Republican   \n",
       "4   6.210401e+17  3833428       Scott Perry 1962-05-27        Republican   \n",
       "\n",
       "  term_type term_state country  Bucket  SentimentScore      version  \\\n",
       "0       rep         TX   China  2 or 3             NaN  2019_batch1   \n",
       "1       rep         TN   China       1             2.0  2019_batch1   \n",
       "2       rep         TN    Iran  2 or 3             NaN  2019_batch1   \n",
       "3       sen         OK  Canada  2 or 3             NaN  2019_batch1   \n",
       "4       rep         PA    Iran  2 or 3             NaN  2019_batch1   \n",
       "\n",
       "   text_length  cleaned_buckets  \n",
       "0           22                0  \n",
       "1           44                1  \n",
       "2           44                0  \n",
       "3           23                0  \n",
       "4            6                0  "
      ]
     },
     "execution_count": 240,
     "metadata": {},
     "output_type": "execute_result"
    }
   ],
   "source": [
    "# data after cleaning\n",
    "print(data.shape)\n",
    "data.head()"
   ]
  },
  {
   "cell_type": "code",
   "execution_count": 241,
   "id": "6b92360c",
   "metadata": {},
   "outputs": [
    {
     "data": {
      "text/html": [
       "<div>\n",
       "<style scoped>\n",
       "    .dataframe tbody tr th:only-of-type {\n",
       "        vertical-align: middle;\n",
       "    }\n",
       "\n",
       "    .dataframe tbody tr th {\n",
       "        vertical-align: top;\n",
       "    }\n",
       "\n",
       "    .dataframe thead th {\n",
       "        text-align: right;\n",
       "    }\n",
       "</style>\n",
       "<table border=\"1\" class=\"dataframe\">\n",
       "  <thead>\n",
       "    <tr style=\"text-align: right;\">\n",
       "      <th></th>\n",
       "      <th>date</th>\n",
       "      <th>text</th>\n",
       "      <th>userid_str</th>\n",
       "      <th>status_id_str</th>\n",
       "      <th>id</th>\n",
       "      <th>name</th>\n",
       "      <th>birth</th>\n",
       "      <th>term_partisanship</th>\n",
       "      <th>term_type</th>\n",
       "      <th>term_state</th>\n",
       "      <th>country</th>\n",
       "      <th>Bucket</th>\n",
       "      <th>SentimentScore</th>\n",
       "      <th>version</th>\n",
       "      <th>text_length</th>\n",
       "      <th>cleaned_buckets</th>\n",
       "    </tr>\n",
       "  </thead>\n",
       "  <tbody>\n",
       "    <tr>\n",
       "      <th>0</th>\n",
       "      <td>2015-09-28</td>\n",
       "      <td>I commend all of law enforcement for the secur...</td>\n",
       "      <td>156333623.0</td>\n",
       "      <td>6.485341e+17</td>\n",
       "      <td>3517566</td>\n",
       "      <td>Al Green</td>\n",
       "      <td>1947-09-01</td>\n",
       "      <td>Democrat</td>\n",
       "      <td>rep</td>\n",
       "      <td>TX</td>\n",
       "      <td>China</td>\n",
       "      <td>2 or 3</td>\n",
       "      <td>NaN</td>\n",
       "      <td>2019_batch1</td>\n",
       "      <td>22</td>\n",
       "      <td>0</td>\n",
       "    </tr>\n",
       "    <tr>\n",
       "      <th>1</th>\n",
       "      <td>2019-02-24</td>\n",
       "      <td>Socialist tyrant Maduro starves, tortures his ...</td>\n",
       "      <td>235312723.0</td>\n",
       "      <td>1.099734e+18</td>\n",
       "      <td>3559992</td>\n",
       "      <td>Scott DesJarlais</td>\n",
       "      <td>1964-02-21</td>\n",
       "      <td>Republican</td>\n",
       "      <td>rep</td>\n",
       "      <td>TN</td>\n",
       "      <td>China</td>\n",
       "      <td>1</td>\n",
       "      <td>2.0</td>\n",
       "      <td>2019_batch1</td>\n",
       "      <td>44</td>\n",
       "      <td>1</td>\n",
       "    </tr>\n",
       "    <tr>\n",
       "      <th>2</th>\n",
       "      <td>2019-02-24</td>\n",
       "      <td>Socialist tyrant Maduro starves, tortures his ...</td>\n",
       "      <td>235312723.0</td>\n",
       "      <td>1.099734e+18</td>\n",
       "      <td>3559992</td>\n",
       "      <td>Scott DesJarlais</td>\n",
       "      <td>1964-02-21</td>\n",
       "      <td>Republican</td>\n",
       "      <td>rep</td>\n",
       "      <td>TN</td>\n",
       "      <td>Iran</td>\n",
       "      <td>2 or 3</td>\n",
       "      <td>NaN</td>\n",
       "      <td>2019_batch1</td>\n",
       "      <td>44</td>\n",
       "      <td>0</td>\n",
       "    </tr>\n",
       "    <tr>\n",
       "      <th>3</th>\n",
       "      <td>2014-06-24</td>\n",
       "      <td>Inhofe: The Canadians have already had convers...</td>\n",
       "      <td>20546536.0</td>\n",
       "      <td>4.815273e+17</td>\n",
       "      <td>3468157</td>\n",
       "      <td>James M. Inhofe</td>\n",
       "      <td>1934-11-17</td>\n",
       "      <td>Republican</td>\n",
       "      <td>sen</td>\n",
       "      <td>OK</td>\n",
       "      <td>Canada</td>\n",
       "      <td>2 or 3</td>\n",
       "      <td>NaN</td>\n",
       "      <td>2019_batch1</td>\n",
       "      <td>23</td>\n",
       "      <td>0</td>\n",
       "    </tr>\n",
       "    <tr>\n",
       "      <th>4</th>\n",
       "      <td>2015-07-14</td>\n",
       "      <td>Statement on Iran nuclear agreement. http://t....</td>\n",
       "      <td>18773159.0</td>\n",
       "      <td>6.210401e+17</td>\n",
       "      <td>3833428</td>\n",
       "      <td>Scott Perry</td>\n",
       "      <td>1962-05-27</td>\n",
       "      <td>Republican</td>\n",
       "      <td>rep</td>\n",
       "      <td>PA</td>\n",
       "      <td>Iran</td>\n",
       "      <td>2 or 3</td>\n",
       "      <td>NaN</td>\n",
       "      <td>2019_batch1</td>\n",
       "      <td>6</td>\n",
       "      <td>0</td>\n",
       "    </tr>\n",
       "    <tr>\n",
       "      <th>...</th>\n",
       "      <td>...</td>\n",
       "      <td>...</td>\n",
       "      <td>...</td>\n",
       "      <td>...</td>\n",
       "      <td>...</td>\n",
       "      <td>...</td>\n",
       "      <td>...</td>\n",
       "      <td>...</td>\n",
       "      <td>...</td>\n",
       "      <td>...</td>\n",
       "      <td>...</td>\n",
       "      <td>...</td>\n",
       "      <td>...</td>\n",
       "      <td>...</td>\n",
       "      <td>...</td>\n",
       "      <td>...</td>\n",
       "    </tr>\n",
       "    <tr>\n",
       "      <th>15504</th>\n",
       "      <td>2020-10-02</td>\n",
       "      <td>Is it fair to make the assessment that China h...</td>\n",
       "      <td>NaN</td>\n",
       "      <td>NaN</td>\n",
       "      <td>1312023398147649537</td>\n",
       "      <td>Mark Walker</td>\n",
       "      <td>NaT</td>\n",
       "      <td>NaN</td>\n",
       "      <td>rep</td>\n",
       "      <td>NC</td>\n",
       "      <td>China</td>\n",
       "      <td>1.0</td>\n",
       "      <td>2.0</td>\n",
       "      <td>NaN</td>\n",
       "      <td>16</td>\n",
       "      <td>1</td>\n",
       "    </tr>\n",
       "    <tr>\n",
       "      <th>15505</th>\n",
       "      <td>2020-10-07</td>\n",
       "      <td>American citizen @BobFu4China, who has been a ...</td>\n",
       "      <td>NaN</td>\n",
       "      <td>NaN</td>\n",
       "      <td>1313958758075322368</td>\n",
       "      <td>Marco Rubio</td>\n",
       "      <td>NaT</td>\n",
       "      <td>NaN</td>\n",
       "      <td>sen</td>\n",
       "      <td>FL</td>\n",
       "      <td>China</td>\n",
       "      <td>1.0</td>\n",
       "      <td>2.0</td>\n",
       "      <td>NaN</td>\n",
       "      <td>35</td>\n",
       "      <td>1</td>\n",
       "    </tr>\n",
       "    <tr>\n",
       "      <th>15506</th>\n",
       "      <td>2020-10-06</td>\n",
       "      <td>The inclusion of those products in #GSP would ...</td>\n",
       "      <td>NaN</td>\n",
       "      <td>NaN</td>\n",
       "      <td>1313491844282683395</td>\n",
       "      <td>Albio Sires</td>\n",
       "      <td>NaT</td>\n",
       "      <td>NaN</td>\n",
       "      <td>rep</td>\n",
       "      <td>NJ</td>\n",
       "      <td>China</td>\n",
       "      <td>NaN</td>\n",
       "      <td>NaN</td>\n",
       "      <td>NaN</td>\n",
       "      <td>35</td>\n",
       "      <td>0</td>\n",
       "    </tr>\n",
       "    <tr>\n",
       "      <th>15507</th>\n",
       "      <td>2020-10-07</td>\n",
       "      <td>Join me THURSDAY at 9:00 AM CT on Facebook LIV...</td>\n",
       "      <td>NaN</td>\n",
       "      <td>NaN</td>\n",
       "      <td>1313689442935361536</td>\n",
       "      <td>J. French Hill</td>\n",
       "      <td>NaT</td>\n",
       "      <td>NaN</td>\n",
       "      <td>rep</td>\n",
       "      <td>AR</td>\n",
       "      <td>China</td>\n",
       "      <td>2 or 3</td>\n",
       "      <td>NaN</td>\n",
       "      <td>NaN</td>\n",
       "      <td>30</td>\n",
       "      <td>0</td>\n",
       "    </tr>\n",
       "    <tr>\n",
       "      <th>15508</th>\n",
       "      <td>2020-10-12</td>\n",
       "      <td>The Commitment to American GROWTH Act is a key...</td>\n",
       "      <td>NaN</td>\n",
       "      <td>NaN</td>\n",
       "      <td>1315743350323122177</td>\n",
       "      <td>Jim Hagedorn</td>\n",
       "      <td>NaT</td>\n",
       "      <td>NaN</td>\n",
       "      <td>rep</td>\n",
       "      <td>MN</td>\n",
       "      <td>China</td>\n",
       "      <td>1.0</td>\n",
       "      <td>2.0</td>\n",
       "      <td>NaN</td>\n",
       "      <td>42</td>\n",
       "      <td>1</td>\n",
       "    </tr>\n",
       "  </tbody>\n",
       "</table>\n",
       "<p>15509 rows × 16 columns</p>\n",
       "</div>"
      ],
      "text/plain": [
       "            date                                               text  \\\n",
       "0     2015-09-28  I commend all of law enforcement for the secur...   \n",
       "1     2019-02-24  Socialist tyrant Maduro starves, tortures his ...   \n",
       "2     2019-02-24  Socialist tyrant Maduro starves, tortures his ...   \n",
       "3     2014-06-24  Inhofe: The Canadians have already had convers...   \n",
       "4     2015-07-14  Statement on Iran nuclear agreement. http://t....   \n",
       "...          ...                                                ...   \n",
       "15504 2020-10-02  Is it fair to make the assessment that China h...   \n",
       "15505 2020-10-07  American citizen @BobFu4China, who has been a ...   \n",
       "15506 2020-10-06  The inclusion of those products in #GSP would ...   \n",
       "15507 2020-10-07  Join me THURSDAY at 9:00 AM CT on Facebook LIV...   \n",
       "15508 2020-10-12  The Commitment to American GROWTH Act is a key...   \n",
       "\n",
       "        userid_str  status_id_str                   id              name  \\\n",
       "0      156333623.0   6.485341e+17              3517566          Al Green   \n",
       "1      235312723.0   1.099734e+18              3559992  Scott DesJarlais   \n",
       "2      235312723.0   1.099734e+18              3559992  Scott DesJarlais   \n",
       "3       20546536.0   4.815273e+17              3468157   James M. Inhofe   \n",
       "4       18773159.0   6.210401e+17              3833428       Scott Perry   \n",
       "...            ...            ...                  ...               ...   \n",
       "15504          NaN            NaN  1312023398147649537       Mark Walker   \n",
       "15505          NaN            NaN  1313958758075322368       Marco Rubio   \n",
       "15506          NaN            NaN  1313491844282683395       Albio Sires   \n",
       "15507          NaN            NaN  1313689442935361536    J. French Hill   \n",
       "15508          NaN            NaN  1315743350323122177      Jim Hagedorn   \n",
       "\n",
       "           birth term_partisanship term_type term_state country  Bucket  \\\n",
       "0     1947-09-01          Democrat       rep         TX   China  2 or 3   \n",
       "1     1964-02-21        Republican       rep         TN   China       1   \n",
       "2     1964-02-21        Republican       rep         TN    Iran  2 or 3   \n",
       "3     1934-11-17        Republican       sen         OK  Canada  2 or 3   \n",
       "4     1962-05-27        Republican       rep         PA    Iran  2 or 3   \n",
       "...          ...               ...       ...        ...     ...     ...   \n",
       "15504        NaT               NaN       rep         NC   China     1.0   \n",
       "15505        NaT               NaN       sen         FL   China     1.0   \n",
       "15506        NaT               NaN       rep         NJ   China     NaN   \n",
       "15507        NaT               NaN       rep         AR   China  2 or 3   \n",
       "15508        NaT               NaN       rep         MN   China     1.0   \n",
       "\n",
       "       SentimentScore      version  text_length  cleaned_buckets  \n",
       "0                 NaN  2019_batch1           22                0  \n",
       "1                 2.0  2019_batch1           44                1  \n",
       "2                 NaN  2019_batch1           44                0  \n",
       "3                 NaN  2019_batch1           23                0  \n",
       "4                 NaN  2019_batch1            6                0  \n",
       "...               ...          ...          ...              ...  \n",
       "15504             2.0          NaN           16                1  \n",
       "15505             2.0          NaN           35                1  \n",
       "15506             NaN          NaN           35                0  \n",
       "15507             NaN          NaN           30                0  \n",
       "15508             2.0          NaN           42                1  \n",
       "\n",
       "[15509 rows x 16 columns]"
      ]
     },
     "execution_count": 241,
     "metadata": {},
     "output_type": "execute_result"
    }
   ],
   "source": [
    "data"
   ]
  },
  {
   "cell_type": "markdown",
   "id": "0a37f0c1",
   "metadata": {},
   "source": [
    "## Exploratory Data Analysis"
   ]
  },
  {
   "cell_type": "code",
   "execution_count": 242,
   "id": "8b2aa490",
   "metadata": {},
   "outputs": [
    {
     "data": {
      "text/plain": [
       "Republican     11131\n",
       "Democrat        4066\n",
       "Independent      108\n",
       "Name: term_partisanship, dtype: int64"
      ]
     },
     "execution_count": 242,
     "metadata": {},
     "output_type": "execute_result"
    }
   ],
   "source": [
    "data.term_partisanship.value_counts()"
   ]
  },
  {
   "cell_type": "code",
   "execution_count": 243,
   "id": "bd88b631",
   "metadata": {},
   "outputs": [
    {
     "data": {
      "text/plain": [
       "(15509, 16)"
      ]
     },
     "execution_count": 243,
     "metadata": {},
     "output_type": "execute_result"
    }
   ],
   "source": [
    "data.shape"
   ]
  },
  {
   "cell_type": "code",
   "execution_count": 244,
   "id": "e14e5917",
   "metadata": {},
   "outputs": [
    {
     "data": {
      "text/plain": [
       "<AxesSubplot:xlabel='term_partisanship', ylabel='count'>"
      ]
     },
     "execution_count": 244,
     "metadata": {},
     "output_type": "execute_result"
    },
    {
     "data": {
      "image/png": "[encoded data removed]",
      "text/plain": [
       "<Figure size 432x288 with 1 Axes>"
      ]
     },
     "metadata": {
      "needs_background": "light"
     },
     "output_type": "display_data"
    }
   ],
   "source": [
    "sns.countplot(data.term_partisanship)"
   ]
  },
  {
   "cell_type": "code",
   "execution_count": 245,
   "id": "edffceca",
   "metadata": {},
   "outputs": [
    {
     "data": {
      "text/plain": [
       "<AxesSubplot:xlabel='country', ylabel='count'>"
      ]
     },
     "execution_count": 245,
     "metadata": {},
     "output_type": "execute_result"
    },
    {
     "data": {
      "image/png": "[encoded data removed]",
      "text/plain": [
       "<Figure size 432x288 with 1 Axes>"
      ]
     },
     "metadata": {
      "needs_background": "light"
     },
     "output_type": "display_data"
    }
   ],
   "source": [
    "sns.countplot(data.country)"
   ]
  },
  {
   "cell_type": "code",
   "execution_count": 246,
   "id": "e309cbd2",
   "metadata": {},
   "outputs": [
    {
     "name": "stdout",
     "output_type": "stream",
     "text": [
      "1    68.9\n",
      "0    31.1\n",
      "Name: cleaned_buckets, dtype: float64\n"
     ]
    },
    {
     "data": {
      "text/plain": [
       "<AxesSubplot:xlabel='cleaned_buckets', ylabel='count'>"
      ]
     },
     "execution_count": 246,
     "metadata": {},
     "output_type": "execute_result"
    },
    {
     "data": {
      "image/png": "[encoded data removed]",
      "text/plain": [
       "<Figure size 432x288 with 1 Axes>"
      ]
     },
     "metadata": {
      "needs_background": "light"
     },
     "output_type": "display_data"
    }
   ],
   "source": [
    "print(round(data.cleaned_buckets.value_counts()*100/len(data),2))\n",
    "sns.countplot(data.cleaned_buckets)"
   ]
  },
  {
   "cell_type": "code",
   "execution_count": 247,
   "id": "979205a7",
   "metadata": {},
   "outputs": [
    {
     "data": {
      "text/plain": [
       "<AxesSubplot:xlabel='SentimentScore', ylabel='Density'>"
      ]
     },
     "execution_count": 247,
     "metadata": {},
     "output_type": "execute_result"
    },
    {
     "data": {
      "image/png": "[encoded data removed]",
      "text/plain": [
       "<Figure size 432x288 with 1 Axes>"
      ]
     },
     "metadata": {
      "needs_background": "light"
     },
     "output_type": "display_data"
    }
   ],
   "source": [
    "sns.distplot(data.SentimentScore)"
   ]
  },
  {
   "cell_type": "code",
   "execution_count": 248,
   "id": "2bc5b7a9",
   "metadata": {},
   "outputs": [
    {
     "data": {
      "text/plain": [
       "<AxesSubplot:>"
      ]
     },
     "execution_count": 248,
     "metadata": {},
     "output_type": "execute_result"
    },
    {
     "data": {
      "image/png": "[encoded data removed]",
      "text/plain": [
       "<Figure size 432x288 with 1 Axes>"
      ]
     },
     "metadata": {
      "needs_background": "light"
     },
     "output_type": "display_data"
    }
   ],
   "source": [
    "pd.to_datetime(data.birth).hist()"
   ]
  },
  {
   "cell_type": "code",
   "execution_count": 249,
   "id": "d7bf4b56",
   "metadata": {},
   "outputs": [
    {
     "data": {
      "text/plain": [
       "<AxesSubplot:>"
      ]
     },
     "execution_count": 249,
     "metadata": {},
     "output_type": "execute_result"
    },
    {
     "data": {
      "image/png": "[encoded data removed]",
      "text/plain": [
       "<Figure size 432x288 with 1 Axes>"
      ]
     },
     "metadata": {
      "needs_background": "light"
     },
     "output_type": "display_data"
    }
   ],
   "source": [
    "data['text_length'].hist()"
   ]
  },
  {
   "cell_type": "markdown",
   "id": "e89df943",
   "metadata": {},
   "source": [
    "## Modeling"
   ]
  },
  {
   "cell_type": "markdown",
   "id": "4793bf3b",
   "metadata": {},
   "source": [
    "### Text Preprocessing"
   ]
  },
  {
   "cell_type": "code",
   "execution_count": 250,
   "id": "2e9cf861",
   "metadata": {},
   "outputs": [
    {
     "data": {
      "text/plain": [
       "1    8719\n",
       "0    3130\n",
       "Name: cleaned_buckets, dtype: int64"
      ]
     },
     "execution_count": 250,
     "metadata": {},
     "output_type": "execute_result"
    }
   ],
   "source": [
    "# select China-related tweets only\n",
    "df = data[data['country']=='China']\n",
    "df.cleaned_buckets.value_counts()"
   ]
  },
  {
   "cell_type": "code",
   "execution_count": 251,
   "id": "8d96b2c3",
   "metadata": {},
   "outputs": [],
   "source": [
    "# function for text cleaning\n",
    "def process_text(text):\n",
    "    # if is Nan\n",
    "    if type(text)==np.float: \n",
    "        return \"\"\n",
    "    \n",
    "    # uniform format\n",
    "    temp = text.lower().replace(\"\\n\",\"\")\n",
    "    # remove hyperlinks\n",
    "    temp = ' '.join([x for x in temp.split() if not ('http' in x or 'www' in x)]).split()\n",
    "\n",
    "    # filtering characters\n",
    "    special_chars = list(\"~!@#$%^&*()_+-={}[]\\|<>?.,;:`\") # special characters\n",
    "    res = []\n",
    "    for word in temp:\n",
    "        for i in special_chars:\n",
    "            word = word.replace(i,'')\n",
    "        res.append(word)\n",
    "\n",
    "    # remove stopwords\n",
    "    sw = stopwords.words('english')                   # english stopwords\n",
    "    res = [i for i in res if i not in sw]\n",
    "\n",
    "    return \" \".join(res)"
   ]
  },
  {
   "cell_type": "code",
   "execution_count": 252,
   "id": "a9ba83b9",
   "metadata": {},
   "outputs": [],
   "source": [
    "df[\"cleaned_text\"] = df['text'].apply(process_text)"
   ]
  },
  {
   "cell_type": "markdown",
   "id": "9ff80303",
   "metadata": {},
   "source": [
    "### Relevance Bucket Predicting (Classification)"
   ]
  },
  {
   "cell_type": "code",
   "execution_count": 253,
   "id": "25d6fed7",
   "metadata": {},
   "outputs": [
    {
     "data": {
      "text/html": [
       "<div>\n",
       "<style scoped>\n",
       "    .dataframe tbody tr th:only-of-type {\n",
       "        vertical-align: middle;\n",
       "    }\n",
       "\n",
       "    .dataframe tbody tr th {\n",
       "        vertical-align: top;\n",
       "    }\n",
       "\n",
       "    .dataframe thead th {\n",
       "        text-align: right;\n",
       "    }\n",
       "</style>\n",
       "<table border=\"1\" class=\"dataframe\">\n",
       "  <thead>\n",
       "    <tr style=\"text-align: right;\">\n",
       "      <th></th>\n",
       "      <th>cleaned_text</th>\n",
       "      <th>cleaned_buckets</th>\n",
       "    </tr>\n",
       "  </thead>\n",
       "  <tbody>\n",
       "    <tr>\n",
       "      <th>0</th>\n",
       "      <td>commend law enforcement security services prov...</td>\n",
       "      <td>0</td>\n",
       "    </tr>\n",
       "    <tr>\n",
       "      <th>1</th>\n",
       "      <td>socialist tyrant maduro starves tortures peopl...</td>\n",
       "      <td>1</td>\n",
       "    </tr>\n",
       "    <tr>\n",
       "      <th>2</th>\n",
       "      <td>russia china india pakistan north korea iran m...</td>\n",
       "      <td>1</td>\n",
       "    </tr>\n",
       "    <tr>\n",
       "      <th>3</th>\n",
       "      <td>ileana roslehtinen ted yoho condemn china's tr...</td>\n",
       "      <td>1</td>\n",
       "    </tr>\n",
       "    <tr>\n",
       "      <th>4</th>\n",
       "      <td>inhofe oil doesn’t come united states canada s...</td>\n",
       "      <td>0</td>\n",
       "    </tr>\n",
       "  </tbody>\n",
       "</table>\n",
       "</div>"
      ],
      "text/plain": [
       "                                        cleaned_text  cleaned_buckets\n",
       "0  commend law enforcement security services prov...                0\n",
       "1  socialist tyrant maduro starves tortures peopl...                1\n",
       "2  russia china india pakistan north korea iran m...                1\n",
       "3  ileana roslehtinen ted yoho condemn china's tr...                1\n",
       "4  inhofe oil doesn’t come united states canada s...                0"
      ]
     },
     "execution_count": 253,
     "metadata": {},
     "output_type": "execute_result"
    }
   ],
   "source": [
    "# filter out irrelevant data\n",
    "df_bkt = df[['cleaned_text', 'cleaned_buckets']]\n",
    "df_bkt.drop_duplicates(inplace=True, ignore_index=True)\n",
    "df_bkt.head()"
   ]
  },
  {
   "cell_type": "code",
   "execution_count": 254,
   "id": "039dd9af",
   "metadata": {},
   "outputs": [
    {
     "data": {
      "text/plain": [
       "1    8076\n",
       "0    3014\n",
       "Name: cleaned_buckets, dtype: int64"
      ]
     },
     "execution_count": 254,
     "metadata": {},
     "output_type": "execute_result"
    }
   ],
   "source": [
    "df_bkt.cleaned_buckets.value_counts()"
   ]
  },
  {
   "cell_type": "code",
   "execution_count": 255,
   "id": "f4b27d66",
   "metadata": {},
   "outputs": [
    {
     "data": {
      "text/plain": [
       "(6000, 2)"
      ]
     },
     "execution_count": 255,
     "metadata": {},
     "output_type": "execute_result"
    }
   ],
   "source": [
    "# balance class\n",
    "df_bkt_A = df_bkt[df_bkt.cleaned_buckets==1]\n",
    "df_bkt_B = df_bkt[df_bkt.cleaned_buckets==0]\n",
    "\n",
    "df_bkt_A_sample = resample(df_bkt_A, replace=False, n_samples=3000, random_state=0)\n",
    "df_bkt_B_sample = resample(df_bkt_B, replace=False, n_samples=3000, random_state=0)\n",
    "df_bkt_final = pd.concat([df_bkt_A_sample, df_bkt_B_sample])\n",
    "df_bkt_final.shape"
   ]
  },
  {
   "cell_type": "code",
   "execution_count": 256,
   "id": "f367686a",
   "metadata": {},
   "outputs": [
    {
     "data": {
      "text/html": [
       "<div>\n",
       "<style scoped>\n",
       "    .dataframe tbody tr th:only-of-type {\n",
       "        vertical-align: middle;\n",
       "    }\n",
       "\n",
       "    .dataframe tbody tr th {\n",
       "        vertical-align: top;\n",
       "    }\n",
       "\n",
       "    .dataframe thead th {\n",
       "        text-align: right;\n",
       "    }\n",
       "</style>\n",
       "<table border=\"1\" class=\"dataframe\">\n",
       "  <thead>\n",
       "    <tr style=\"text-align: right;\">\n",
       "      <th></th>\n",
       "      <th>cleaned_text</th>\n",
       "      <th>cleaned_buckets</th>\n",
       "    </tr>\n",
       "  </thead>\n",
       "  <tbody>\n",
       "    <tr>\n",
       "      <th>5482</th>\n",
       "      <td>congress made right decision including provisi...</td>\n",
       "      <td>1</td>\n",
       "    </tr>\n",
       "    <tr>\n",
       "      <th>5210</th>\n",
       "      <td>uschina relationship defining geopolitical iss...</td>\n",
       "      <td>1</td>\n",
       "    </tr>\n",
       "    <tr>\n",
       "      <th>4252</th>\n",
       "      <td>many years communist china worked undermine un...</td>\n",
       "      <td>1</td>\n",
       "    </tr>\n",
       "    <tr>\n",
       "      <th>6997</th>\n",
       "      <td>today waysmeanscmte heard rushan abbas cuyghur...</td>\n",
       "      <td>1</td>\n",
       "    </tr>\n",
       "    <tr>\n",
       "      <th>6001</th>\n",
       "      <td>fully embrace nuclear renaissance going lose e...</td>\n",
       "      <td>1</td>\n",
       "    </tr>\n",
       "  </tbody>\n",
       "</table>\n",
       "</div>"
      ],
      "text/plain": [
       "                                           cleaned_text  cleaned_buckets\n",
       "5482  congress made right decision including provisi...                1\n",
       "5210  uschina relationship defining geopolitical iss...                1\n",
       "4252  many years communist china worked undermine un...                1\n",
       "6997  today waysmeanscmte heard rushan abbas cuyghur...                1\n",
       "6001  fully embrace nuclear renaissance going lose e...                1"
      ]
     },
     "execution_count": 256,
     "metadata": {},
     "output_type": "execute_result"
    }
   ],
   "source": [
    "df_bkt_final.head()"
   ]
  },
  {
   "cell_type": "code",
   "execution_count": 257,
   "id": "02a9a418",
   "metadata": {},
   "outputs": [],
   "source": [
    "# split data\n",
    "X = df_bkt_final.cleaned_text.to_frame()\n",
    "y = df_bkt_final.cleaned_buckets.to_frame()\n",
    "X_train, X_test, y_train, y_test = train_test_split(X, y, test_size=0.2, random_state=42)"
   ]
  },
  {
   "cell_type": "code",
   "execution_count": 271,
   "id": "bf398929",
   "metadata": {},
   "outputs": [],
   "source": [
    "def model_1(X_train, y_train,N, criterion, max_depth):\n",
    "    preprocessor = ColumnTransformer(\n",
    "        transformers=[\n",
    "            (\"bog\", CountVectorizer(), 'cleaned_text'),\n",
    "            (\"tfidf\", TfidfVectorizer(), 'cleaned_text')]\n",
    "    )\n",
    "\n",
    "    #clf = SVC(C=C, kernel=kernel, random_state=1192)\n",
    "    clf = RandomForestClassifier(n_estimators=N, criterion=criterion, max_depth=max_depth,random_state=1192)\n",
    "    #clf = AdaBoostClassifier(n_estimators=100, random_state=0)\n",
    "\n",
    "    pl = Pipeline([\n",
    "                    ('preprocessor', preprocessor),\n",
    "                    ('clf', OneVsRestClassifier(clf, n_jobs=1)),\n",
    "                ])\n",
    "\n",
    "    pl.fit(X_train, y_train)\n",
    "    return pl"
   ]
  },
  {
   "cell_type": "code",
   "execution_count": 259,
   "id": "f91b9033",
   "metadata": {
    "scrolled": true
   },
   "outputs": [],
   "source": [
    "pl = model_1(X_train, y_train)\n",
    "preds = pl.predict(X_test)\n",
    "print('Accuracy:  ' + str(accuracy_score(y_test, preds)))\n",
    "print('Confusion Matrix: \\n' + str(confusion_matrix(y_test, preds)))\n",
    "res = precision_recall_fscore_support(y_test, preds,average='binary')\n",
    "print('Precision: ' + str(res[0]))\n",
    "print('Recall:    ' + str(res[1]))\n",
    "print('F1 score:  ' + str(res[2]))"
   ]
  },
  {
   "cell_type": "code",
   "execution_count": 274,
   "id": "59a8628f",
   "metadata": {},
   "outputs": [
    {
     "name": "stdout",
     "output_type": "stream",
     "text": [
      "Accuracy of 50 gini 5:  0.6575\n",
      "Accuracy of 50 gini 10:  0.6891666666666667\n",
      "Accuracy of 50 gini 30:  0.6941666666666667\n",
      "Accuracy of 50 entropy 5:  0.6625\n",
      "Accuracy of 50 entropy 10:  0.6783333333333333\n",
      "Accuracy of 50 entropy 30:  0.6841666666666667\n",
      "Accuracy of 100 gini 5:  0.67\n",
      "Accuracy of 100 gini 10:  0.6866666666666666\n",
      "Accuracy of 100 gini 30:  0.6975\n",
      "Accuracy of 100 entropy 5:  0.6633333333333333\n",
      "Accuracy of 100 entropy 10:  0.6825\n",
      "Accuracy of 100 entropy 30:  0.6866666666666666\n"
     ]
    }
   ],
   "source": [
    "# rf\n",
    "for N in [50, 100]:\n",
    "    for criterion in [\"gini\", 'entropy']:\n",
    "        for max_depth in [5, 10, 30]:\n",
    "            pl = model_1(X_train, y_train,N, criterion, max_depth)\n",
    "            preds = pl.predict(X_test)\n",
    "            print('Accuracy of {} {} {}:  '.format(N,criterion,max_depth) + str(accuracy_score(y_test, preds)))"
   ]
  },
  {
   "cell_type": "code",
   "execution_count": 269,
   "id": "2599c928",
   "metadata": {},
   "outputs": [
    {
     "name": "stdout",
     "output_type": "stream",
     "text": [
      "Accuracy of 1 linear:  0.63\n",
      "Accuracy of 1 poly:  0.5991666666666666\n",
      "Accuracy of 1 rbf:  0.6991666666666667\n",
      "Accuracy of 1 sigmoid:  0.6991666666666667\n",
      "Accuracy of 2 linear:  0.6183333333333333\n",
      "Accuracy of 2 poly:  0.6058333333333333\n",
      "Accuracy of 2 rbf:  0.6958333333333333\n",
      "Accuracy of 2 sigmoid:  0.6925\n",
      "Accuracy of 3 linear:  0.6091666666666666\n",
      "Accuracy of 3 poly:  0.6091666666666666\n",
      "Accuracy of 3 rbf:  0.6875\n",
      "Accuracy of 3 sigmoid:  0.6841666666666667\n"
     ]
    }
   ],
   "source": [
    "# svc\n",
    "for C in [1,2,3]:\n",
    "    for kernel in [\"linear\", 'poly', 'rbf', 'sigmoid']:\n",
    "        pl = model_1(X_train, y_train,C,kernel)\n",
    "        preds = pl.predict(X_test)\n",
    "        print('Accuracy of {} {}:  '.format(C,kernel) + str(accuracy_score(y_test, preds)))"
   ]
  },
  {
   "cell_type": "code",
   "execution_count": 260,
   "id": "74b9161c",
   "metadata": {},
   "outputs": [
    {
     "name": "stdout",
     "output_type": "stream",
     "text": [
      "Accuracy:  0.645\n",
      "Confusion Matrix: \n",
      "[[402 185]\n",
      " [241 372]]\n",
      "Precision: 0.6678635547576302\n",
      "Recall:    0.6068515497553018\n",
      "F1 score:  0.6358974358974359\n"
     ]
    }
   ],
   "source": [
    "print('Accuracy:  ' + str(accuracy_score(y_test, preds)))\n",
    "print('Confusion Matrix: \\n' + str(confusion_matrix(y_test, preds)))\n",
    "res = precision_recall_fscore_support(y_test, preds,average='binary')\n",
    "print('Precision: ' + str(res[0]))\n",
    "print('Recall:    ' + str(res[1]))\n",
    "print('F1 score:  ' + str(res[2]))"
   ]
  },
  {
   "cell_type": "markdown",
   "id": "4244161a",
   "metadata": {},
   "source": [
    "### Sentiment Score Predicting (Regression)"
   ]
  },
  {
   "cell_type": "code",
   "execution_count": 100,
   "id": "f8801ea8",
   "metadata": {},
   "outputs": [
    {
     "data": {
      "text/html": [
       "<div>\n",
       "<style scoped>\n",
       "    .dataframe tbody tr th:only-of-type {\n",
       "        vertical-align: middle;\n",
       "    }\n",
       "\n",
       "    .dataframe tbody tr th {\n",
       "        vertical-align: top;\n",
       "    }\n",
       "\n",
       "    .dataframe thead th {\n",
       "        text-align: right;\n",
       "    }\n",
       "</style>\n",
       "<table border=\"1\" class=\"dataframe\">\n",
       "  <thead>\n",
       "    <tr style=\"text-align: right;\">\n",
       "      <th></th>\n",
       "      <th>cleaned_text</th>\n",
       "      <th>SentimentScore</th>\n",
       "    </tr>\n",
       "  </thead>\n",
       "  <tbody>\n",
       "    <tr>\n",
       "      <th>1</th>\n",
       "      <td>socialist tyrant maduro starves tortures peopl...</td>\n",
       "      <td>2.0</td>\n",
       "    </tr>\n",
       "    <tr>\n",
       "      <th>2</th>\n",
       "      <td>russia china india pakistan north korea iran m...</td>\n",
       "      <td>2.0</td>\n",
       "    </tr>\n",
       "    <tr>\n",
       "      <th>3</th>\n",
       "      <td>ileana roslehtinen ted yoho condemn china's tr...</td>\n",
       "      <td>1.5</td>\n",
       "    </tr>\n",
       "    <tr>\n",
       "      <th>5</th>\n",
       "      <td>breaking oval office meeting today chinese com...</td>\n",
       "      <td>4.5</td>\n",
       "    </tr>\n",
       "    <tr>\n",
       "      <th>6</th>\n",
       "      <td>breaking oval office meeting today chinese com...</td>\n",
       "      <td>4.0</td>\n",
       "    </tr>\n",
       "  </tbody>\n",
       "</table>\n",
       "</div>"
      ],
      "text/plain": [
       "                                        cleaned_text  SentimentScore\n",
       "1  socialist tyrant maduro starves tortures peopl...             2.0\n",
       "2  russia china india pakistan north korea iran m...             2.0\n",
       "3  ileana roslehtinen ted yoho condemn china's tr...             1.5\n",
       "5  breaking oval office meeting today chinese com...             4.5\n",
       "6  breaking oval office meeting today chinese com...             4.0"
      ]
     },
     "execution_count": 100,
     "metadata": {},
     "output_type": "execute_result"
    }
   ],
   "source": [
    "# filter out irrelevant data\n",
    "df_ss = df[['cleaned_text', 'SentimentScore']]\n",
    "df_ss.drop_duplicates(inplace=True, ignore_index=True)\n",
    "df_ss.dropna(inplace=True)\n",
    "df_ss = df_ss[df_ss['SentimentScore']<=5]\n",
    "df_ss['SentimentScore'] = df_ss['SentimentScore'].astype(float)\n",
    "df_ss.head()"
   ]
  },
  {
   "cell_type": "code",
   "execution_count": 102,
   "id": "0e3263a0",
   "metadata": {},
   "outputs": [
    {
     "name": "stdout",
     "output_type": "stream",
     "text": [
      "2.0    41.82\n",
      "1.0    35.72\n",
      "1.5    16.55\n",
      "0.0     2.07\n",
      "4.0     1.64\n",
      "3.0     1.49\n",
      "2.5     0.28\n",
      "4.5     0.25\n",
      "5.0     0.08\n",
      "3.5     0.08\n",
      "0.5     0.02\n",
      "Name: SentimentScore, dtype: float64\n"
     ]
    },
    {
     "data": {
      "text/plain": [
       "<AxesSubplot:xlabel='SentimentScore', ylabel='Density'>"
      ]
     },
     "execution_count": 102,
     "metadata": {},
     "output_type": "execute_result"
    },
    {
     "data": {
      "image/png": "[encoded data removed]",
      "text/plain": [
       "<Figure size 432x288 with 1 Axes>"
      ]
     },
     "metadata": {
      "needs_background": "light"
     },
     "output_type": "display_data"
    }
   ],
   "source": [
    "print(round(df_ss.SentimentScore.value_counts()*100/len(df_ss),2))\n",
    "sns.distplot(df_ss.SentimentScore)"
   ]
  },
  {
   "cell_type": "code",
   "execution_count": 455,
   "id": "c61474bc",
   "metadata": {
    "scrolled": false
   },
   "outputs": [
    {
     "data": {
      "text/plain": [
       "(9187, 2)"
      ]
     },
     "execution_count": 455,
     "metadata": {},
     "output_type": "execute_result"
    }
   ],
   "source": [
    "df_ss.shape"
   ]
  },
  {
   "cell_type": "code",
   "execution_count": 461,
   "id": "5cb4c921",
   "metadata": {},
   "outputs": [],
   "source": [
    "# split data\n",
    "X = df_ss.cleaned_text.to_frame()\n",
    "y = df_ss.SentimentScore.to_frame()\n",
    "\n",
    "X_train, X_test, y_train, y_test = train_test_split(X, y, test_size=0.2, random_state=42)\n",
    "y_train = y_train.astype('float32')\n",
    "y_test = y_test.astype('float32')"
   ]
  },
  {
   "cell_type": "code",
   "execution_count": 464,
   "id": "63b20d12",
   "metadata": {},
   "outputs": [],
   "source": [
    "def model_2(X_train, y_train):\n",
    "    preprocessor = ColumnTransformer(\n",
    "        transformers=[\n",
    "            (\"bog\", CountVectorizer(), 'cleaned_text'),\n",
    "            (\"tfidf\", TfidfVectorizer(), 'cleaned_text')]\n",
    "    )\n",
    "\n",
    "    #reg = GradientBoostingRegressor()\n",
    "    reg = LGBMRegressor()\n",
    "    #reg = ElasticNet()\n",
    "\n",
    "    pl = Pipeline([\n",
    "                    ('preprocessor', preprocessor),\n",
    "                    ('reg', reg),\n",
    "                ])\n",
    "\n",
    "    pl.fit(X_train, y_train)\n",
    "    return pl"
   ]
  },
  {
   "cell_type": "code",
   "execution_count": 465,
   "id": "68d4adfa",
   "metadata": {},
   "outputs": [
    {
     "name": "stdout",
     "output_type": "stream",
     "text": [
      "MSE:  0.27701139340384334\n"
     ]
    }
   ],
   "source": [
    "pl = model_2(X_train, y_train)\n",
    "preds = pl.predict(X_test)\n",
    "print('MSE:  ' + str(mean_squared_error(y_test, preds)))"
   ]
  }
 ],
 "metadata": {
  "kernelspec": {
   "display_name": "Python 3 (ipykernel)",
   "language": "python",
   "name": "python3"
  },
  "language_info": {
   "codemirror_mode": {
    "name": "ipython",
    "version": 3
   },
   "file_extension": ".py",
   "mimetype": "text/x-python",
   "name": "python",
   "nbconvert_exporter": "python",
   "pygments_lexer": "ipython3",
   "version": "3.9.7"
  }
 },
 "nbformat": 4,
 "nbformat_minor": 5
}
