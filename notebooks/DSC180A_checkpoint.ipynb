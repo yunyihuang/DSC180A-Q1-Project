{
 "cells": [
  {
   "cell_type": "markdown",
   "id": "932aedab",
   "metadata": {},
   "source": [
    "# DSC 180A Checkpoint"
   ]
  },
  {
   "cell_type": "markdown",
   "id": "208a0da1",
   "metadata": {},
   "source": [
    "## Import packages & Data"
   ]
  },
  {
   "cell_type": "code",
   "execution_count": 466,
   "id": "46fb442b",
   "metadata": {},
   "outputs": [],
   "source": [
    "import numpy as np\n",
    "import pandas as pd\n",
    "import matplotlib.pyplot\n",
    "import seaborn as sns\n",
    "import warnings\n",
    "warnings.filterwarnings('ignore')\n",
    "from collections import defaultdict\n",
    "import string\n",
    "import math\n",
    "import nltk\n",
    "import emoji\n",
    "from nltk.corpus import stopwords\n",
    "from sklearn.feature_extraction.text import TfidfVectorizer\n",
    "from sklearn.feature_extraction.text import CountVectorizer\n",
    "\n",
    "from sklearn.utils import resample\n",
    "from sklearn.metrics import accuracy_score\n",
    "from sklearn.metrics import confusion_matrix\n",
    "from sklearn.pipeline import Pipeline\n",
    "from sklearn.model_selection import train_test_split\n",
    "from sklearn.multiclass import OneVsRestClassifier\n",
    "from sklearn.compose import ColumnTransformer\n",
    "from sklearn.neural_network import MLPClassifier\n",
    "from sklearn.neighbors import KNeighborsClassifier\n",
    "from sklearn.svm import SVC\n",
    "from sklearn.gaussian_process import GaussianProcessClassifier\n",
    "from sklearn.tree import DecisionTreeClassifier\n",
    "from sklearn.ensemble import RandomForestClassifier, AdaBoostClassifier\n",
    "from sklearn.naive_bayes import GaussianNB\n",
    "from sklearn.metrics import precision_recall_fscore_support\n",
    "from sklearn.metrics import mean_squared_error\n",
    "from sklearn.ensemble import GradientBoostingRegressor\n",
    "from lightgbm import LGBMRegressor\n",
    "from sklearn.linear_model import ElasticNet\n",
    "from sklearn.metrics import mean_squared_error"
   ]
  },
  {
   "cell_type": "code",
   "execution_count": 467,
   "id": "2a2823d7",
   "metadata": {
    "scrolled": true
   },
   "outputs": [
    {
     "data": {
      "text/html": [
       "<div>\n",
       "<style scoped>\n",
       "    .dataframe tbody tr th:only-of-type {\n",
       "        vertical-align: middle;\n",
       "    }\n",
       "\n",
       "    .dataframe tbody tr th {\n",
       "        vertical-align: top;\n",
       "    }\n",
       "\n",
       "    .dataframe thead th {\n",
       "        text-align: right;\n",
       "    }\n",
       "</style>\n",
       "<table border=\"1\" class=\"dataframe\">\n",
       "  <thead>\n",
       "    <tr style=\"text-align: right;\">\n",
       "      <th></th>\n",
       "      <th>date</th>\n",
       "      <th>text</th>\n",
       "      <th>userid_str</th>\n",
       "      <th>status_id_str</th>\n",
       "      <th>id</th>\n",
       "      <th>name</th>\n",
       "      <th>birth</th>\n",
       "      <th>term_partisanship</th>\n",
       "      <th>term_type</th>\n",
       "      <th>term_state</th>\n",
       "      <th>country</th>\n",
       "      <th>Bucket</th>\n",
       "      <th>SentimentScore</th>\n",
       "      <th>version</th>\n",
       "    </tr>\n",
       "  </thead>\n",
       "  <tbody>\n",
       "    <tr>\n",
       "      <th>0</th>\n",
       "      <td>2015-09-28</td>\n",
       "      <td>I commend all of law enforcement for the secur...</td>\n",
       "      <td>156333623.0</td>\n",
       "      <td>6.485341e+17</td>\n",
       "      <td>3517566</td>\n",
       "      <td>Al Green</td>\n",
       "      <td>1947-09-01</td>\n",
       "      <td>Democrat</td>\n",
       "      <td>rep</td>\n",
       "      <td>TX</td>\n",
       "      <td>China</td>\n",
       "      <td>2 or 3</td>\n",
       "      <td>NaN</td>\n",
       "      <td>2019_batch1</td>\n",
       "    </tr>\n",
       "    <tr>\n",
       "      <th>1</th>\n",
       "      <td>2019-02-24</td>\n",
       "      <td>Socialist tyrant Maduro starves, tortures his ...</td>\n",
       "      <td>235312723.0</td>\n",
       "      <td>1.099734e+18</td>\n",
       "      <td>3559992</td>\n",
       "      <td>Scott DesJarlais</td>\n",
       "      <td>1964-02-21</td>\n",
       "      <td>Republican</td>\n",
       "      <td>rep</td>\n",
       "      <td>TN</td>\n",
       "      <td>China</td>\n",
       "      <td>1</td>\n",
       "      <td>2.0</td>\n",
       "      <td>2019_batch1</td>\n",
       "    </tr>\n",
       "    <tr>\n",
       "      <th>2</th>\n",
       "      <td>2019-02-24</td>\n",
       "      <td>Socialist tyrant Maduro starves, tortures his ...</td>\n",
       "      <td>235312723.0</td>\n",
       "      <td>1.099734e+18</td>\n",
       "      <td>3559992</td>\n",
       "      <td>Scott DesJarlais</td>\n",
       "      <td>1964-02-21</td>\n",
       "      <td>Republican</td>\n",
       "      <td>rep</td>\n",
       "      <td>TN</td>\n",
       "      <td>Iran</td>\n",
       "      <td>2 or 3</td>\n",
       "      <td>NaN</td>\n",
       "      <td>2019_batch1</td>\n",
       "    </tr>\n",
       "    <tr>\n",
       "      <th>3</th>\n",
       "      <td>2014-06-24</td>\n",
       "      <td>Inhofe: The Canadians have already had convers...</td>\n",
       "      <td>20546536.0</td>\n",
       "      <td>4.815273e+17</td>\n",
       "      <td>3468157</td>\n",
       "      <td>James M. Inhofe</td>\n",
       "      <td>1934-11-17</td>\n",
       "      <td>Republican</td>\n",
       "      <td>sen</td>\n",
       "      <td>OK</td>\n",
       "      <td>Canada</td>\n",
       "      <td>2 or 3</td>\n",
       "      <td>NaN</td>\n",
       "      <td>2019_batch1</td>\n",
       "    </tr>\n",
       "    <tr>\n",
       "      <th>4</th>\n",
       "      <td>2015-07-14</td>\n",
       "      <td>Statement on Iran nuclear agreement. http://t....</td>\n",
       "      <td>18773159.0</td>\n",
       "      <td>6.210401e+17</td>\n",
       "      <td>3833428</td>\n",
       "      <td>Scott Perry</td>\n",
       "      <td>1962-05-27</td>\n",
       "      <td>Republican</td>\n",
       "      <td>rep</td>\n",
       "      <td>PA</td>\n",
       "      <td>Iran</td>\n",
       "      <td>2 or 3</td>\n",
       "      <td>NaN</td>\n",
       "      <td>2019_batch1</td>\n",
       "    </tr>\n",
       "  </tbody>\n",
       "</table>\n",
       "</div>"
      ],
      "text/plain": [
       "         date                                               text   userid_str  \\\n",
       "0  2015-09-28  I commend all of law enforcement for the secur...  156333623.0   \n",
       "1  2019-02-24  Socialist tyrant Maduro starves, tortures his ...  235312723.0   \n",
       "2  2019-02-24  Socialist tyrant Maduro starves, tortures his ...  235312723.0   \n",
       "3  2014-06-24  Inhofe: The Canadians have already had convers...   20546536.0   \n",
       "4  2015-07-14  Statement on Iran nuclear agreement. http://t....   18773159.0   \n",
       "\n",
       "   status_id_str       id              name       birth term_partisanship  \\\n",
       "0   6.485341e+17  3517566          Al Green  1947-09-01          Democrat   \n",
       "1   1.099734e+18  3559992  Scott DesJarlais  1964-02-21        Republican   \n",
       "2   1.099734e+18  3559992  Scott DesJarlais  1964-02-21        Republican   \n",
       "3   4.815273e+17  3468157   James M. Inhofe  1934-11-17        Republican   \n",
       "4   6.210401e+17  3833428       Scott Perry  1962-05-27        Republican   \n",
       "\n",
       "  term_type term_state country  Bucket  SentimentScore      version  \n",
       "0       rep         TX   China  2 or 3             NaN  2019_batch1  \n",
       "1       rep         TN   China       1             2.0  2019_batch1  \n",
       "2       rep         TN    Iran  2 or 3             NaN  2019_batch1  \n",
       "3       sen         OK  Canada  2 or 3             NaN  2019_batch1  \n",
       "4       rep         PA    Iran  2 or 3             NaN  2019_batch1  "
      ]
     },
     "execution_count": 467,
     "metadata": {},
     "output_type": "execute_result"
    }
   ],
   "source": [
    "# read in data\n",
    "data = pd.read_csv(\"SentimentLabeled_10112022.csv\")\n",
    "data.head()"
   ]
  },
  {
   "cell_type": "code",
   "execution_count": 468,
   "id": "ea409bb5",
   "metadata": {
    "scrolled": true
   },
   "outputs": [
    {
     "data": {
      "text/plain": [
       "(15846, 14)"
      ]
     },
     "execution_count": 468,
     "metadata": {},
     "output_type": "execute_result"
    }
   ],
   "source": [
    "data.shape"
   ]
  },
  {
   "cell_type": "code",
   "execution_count": 469,
   "id": "0fbcdc46",
   "metadata": {},
   "outputs": [
    {
     "name": "stdout",
     "output_type": "stream",
     "text": [
      "<class 'pandas.core.frame.DataFrame'>\n",
      "RangeIndex: 15846 entries, 0 to 15845\n",
      "Data columns (total 14 columns):\n",
      " #   Column             Non-Null Count  Dtype  \n",
      "---  ------             --------------  -----  \n",
      " 0   date               15846 non-null  object \n",
      " 1   text               15846 non-null  object \n",
      " 2   userid_str         15642 non-null  float64\n",
      " 3   status_id_str      8074 non-null   float64\n",
      " 4   id                 15846 non-null  int64  \n",
      " 5   name               15846 non-null  object \n",
      " 6   birth              15642 non-null  object \n",
      " 7   term_partisanship  15642 non-null  object \n",
      " 8   term_type          15846 non-null  object \n",
      " 9   term_state         15846 non-null  object \n",
      " 10  country            15846 non-null  object \n",
      " 11  Bucket             14614 non-null  object \n",
      " 12  SentimentScore     12259 non-null  float64\n",
      " 13  version            15642 non-null  object \n",
      "dtypes: float64(3), int64(1), object(10)\n",
      "memory usage: 1.7+ MB\n"
     ]
    }
   ],
   "source": [
    "data.info()"
   ]
  },
  {
   "cell_type": "code",
   "execution_count": 470,
   "id": "979b7310",
   "metadata": {},
   "outputs": [
    {
     "data": {
      "text/plain": [
       "date                    0\n",
       "text                    0\n",
       "userid_str            204\n",
       "status_id_str        7772\n",
       "id                      0\n",
       "name                    0\n",
       "birth                 204\n",
       "term_partisanship     204\n",
       "term_type               0\n",
       "term_state              0\n",
       "country                 0\n",
       "Bucket               1232\n",
       "SentimentScore       3587\n",
       "version               204\n",
       "dtype: int64"
      ]
     },
     "execution_count": 470,
     "metadata": {},
     "output_type": "execute_result"
    }
   ],
   "source": [
    "data.isna().sum()"
   ]
  },
  {
   "cell_type": "markdown",
   "id": "9e6c6dcc",
   "metadata": {},
   "source": [
    "## Data Cleaning"
   ]
  },
  {
   "cell_type": "code",
   "execution_count": 471,
   "id": "209e7fa9",
   "metadata": {},
   "outputs": [
    {
     "data": {
      "text/plain": [
       "1         10797\n",
       "2 or 3     3344\n",
       "2           292\n",
       "1.0         122\n",
       "3            48\n",
       "2.0          10\n",
       "3.0           1\n",
       "Name: Bucket, dtype: int64"
      ]
     },
     "execution_count": 471,
     "metadata": {},
     "output_type": "execute_result"
    }
   ],
   "source": [
    "data.Bucket.value_counts()"
   ]
  },
  {
   "cell_type": "code",
   "execution_count": 472,
   "id": "7ff1f20b",
   "metadata": {},
   "outputs": [
    {
     "data": {
      "text/plain": [
       "(15509, 14)"
      ]
     },
     "execution_count": 472,
     "metadata": {},
     "output_type": "execute_result"
    }
   ],
   "source": [
    "# drop the duplicate data \n",
    "data.drop_duplicates(inplace=True)\n",
    "data.shape"
   ]
  },
  {
   "cell_type": "code",
   "execution_count": 473,
   "id": "0b27f3b6",
   "metadata": {},
   "outputs": [],
   "source": [
    "# helper functions for data cleaning\n",
    "def clean_buckets(bucket_num):\n",
    "    if bucket_num == \"1\" or bucket_num == \"1.0\":\n",
    "        return \"A\" # bucket1\n",
    "    else:\n",
    "        return \"B\" # non-bucket1"
   ]
  },
  {
   "cell_type": "code",
   "execution_count": 474,
   "id": "5dd227d0",
   "metadata": {},
   "outputs": [],
   "source": [
    "# cleaning & wrangling\n",
    "\n",
    "# uniform data format\n",
    "data[\"term_partisanship\"] = data[\"term_partisanship\"].str.strip(\"{}\")\n",
    "data[\"term_type\"] = data[\"term_type\"].str.strip(\"{}\")\n",
    "data[\"term_state\"] = data[\"term_state\"].str.strip(\"{}\")\n",
    "\n",
    "# feature engineering\n",
    "data['text_length'] = data['text'].apply(lambda x: len(x.split()))\n",
    "data['cleaned_buckets'] = data['Bucket'].apply(clean_buckets)\n",
    "data[['date','birth']] = data[['date','birth']].apply(pd.to_datetime)\n",
    "\n",
    "# filtering abnormal data\n",
    "#data = data[data['SentimentScore'] <= 5]\n",
    "data.reset_index(drop=True, inplace=True)"
   ]
  },
  {
   "cell_type": "code",
   "execution_count": 475,
   "id": "0069fca5",
   "metadata": {},
   "outputs": [
    {
     "data": {
      "text/plain": [
       "1         10564\n",
       "2 or 3     3248\n",
       "2           288\n",
       "1.0         122\n",
       "3            47\n",
       "2.0          10\n",
       "3.0           1\n",
       "Name: Bucket, dtype: int64"
      ]
     },
     "execution_count": 475,
     "metadata": {},
     "output_type": "execute_result"
    }
   ],
   "source": [
    "data.Bucket.value_counts()"
   ]
  },
  {
   "cell_type": "code",
   "execution_count": 476,
   "id": "a3dddda0",
   "metadata": {},
   "outputs": [
    {
     "data": {
      "text/plain": [
       "A    10686\n",
       "B     4823\n",
       "Name: cleaned_buckets, dtype: int64"
      ]
     },
     "execution_count": 476,
     "metadata": {},
     "output_type": "execute_result"
    }
   ],
   "source": [
    "data.cleaned_buckets.value_counts()"
   ]
  },
  {
   "cell_type": "code",
   "execution_count": 489,
   "id": "8281bb8b",
   "metadata": {},
   "outputs": [
    {
     "data": {
      "text/plain": [
       "12018"
      ]
     },
     "execution_count": 489,
     "metadata": {},
     "output_type": "execute_result"
    }
   ],
   "source": [
    "data.SentimentScore.value_counts().sum()"
   ]
  },
  {
   "cell_type": "code",
   "execution_count": 477,
   "id": "5b2f1e05",
   "metadata": {},
   "outputs": [
    {
     "name": "stdout",
     "output_type": "stream",
     "text": [
      "(15509, 16)\n"
     ]
    },
    {
     "data": {
      "text/html": [
       "<div>\n",
       "<style scoped>\n",
       "    .dataframe tbody tr th:only-of-type {\n",
       "        vertical-align: middle;\n",
       "    }\n",
       "\n",
       "    .dataframe tbody tr th {\n",
       "        vertical-align: top;\n",
       "    }\n",
       "\n",
       "    .dataframe thead th {\n",
       "        text-align: right;\n",
       "    }\n",
       "</style>\n",
       "<table border=\"1\" class=\"dataframe\">\n",
       "  <thead>\n",
       "    <tr style=\"text-align: right;\">\n",
       "      <th></th>\n",
       "      <th>date</th>\n",
       "      <th>text</th>\n",
       "      <th>userid_str</th>\n",
       "      <th>status_id_str</th>\n",
       "      <th>id</th>\n",
       "      <th>name</th>\n",
       "      <th>birth</th>\n",
       "      <th>term_partisanship</th>\n",
       "      <th>term_type</th>\n",
       "      <th>term_state</th>\n",
       "      <th>country</th>\n",
       "      <th>Bucket</th>\n",
       "      <th>SentimentScore</th>\n",
       "      <th>version</th>\n",
       "      <th>text_length</th>\n",
       "      <th>cleaned_buckets</th>\n",
       "    </tr>\n",
       "  </thead>\n",
       "  <tbody>\n",
       "    <tr>\n",
       "      <th>0</th>\n",
       "      <td>2015-09-28</td>\n",
       "      <td>I commend all of law enforcement for the secur...</td>\n",
       "      <td>156333623.0</td>\n",
       "      <td>6.485341e+17</td>\n",
       "      <td>3517566</td>\n",
       "      <td>Al Green</td>\n",
       "      <td>1947-09-01</td>\n",
       "      <td>Democrat</td>\n",
       "      <td>rep</td>\n",
       "      <td>TX</td>\n",
       "      <td>China</td>\n",
       "      <td>2 or 3</td>\n",
       "      <td>NaN</td>\n",
       "      <td>2019_batch1</td>\n",
       "      <td>22</td>\n",
       "      <td>B</td>\n",
       "    </tr>\n",
       "    <tr>\n",
       "      <th>1</th>\n",
       "      <td>2019-02-24</td>\n",
       "      <td>Socialist tyrant Maduro starves, tortures his ...</td>\n",
       "      <td>235312723.0</td>\n",
       "      <td>1.099734e+18</td>\n",
       "      <td>3559992</td>\n",
       "      <td>Scott DesJarlais</td>\n",
       "      <td>1964-02-21</td>\n",
       "      <td>Republican</td>\n",
       "      <td>rep</td>\n",
       "      <td>TN</td>\n",
       "      <td>China</td>\n",
       "      <td>1</td>\n",
       "      <td>2.0</td>\n",
       "      <td>2019_batch1</td>\n",
       "      <td>44</td>\n",
       "      <td>A</td>\n",
       "    </tr>\n",
       "    <tr>\n",
       "      <th>2</th>\n",
       "      <td>2019-02-24</td>\n",
       "      <td>Socialist tyrant Maduro starves, tortures his ...</td>\n",
       "      <td>235312723.0</td>\n",
       "      <td>1.099734e+18</td>\n",
       "      <td>3559992</td>\n",
       "      <td>Scott DesJarlais</td>\n",
       "      <td>1964-02-21</td>\n",
       "      <td>Republican</td>\n",
       "      <td>rep</td>\n",
       "      <td>TN</td>\n",
       "      <td>Iran</td>\n",
       "      <td>2 or 3</td>\n",
       "      <td>NaN</td>\n",
       "      <td>2019_batch1</td>\n",
       "      <td>44</td>\n",
       "      <td>B</td>\n",
       "    </tr>\n",
       "    <tr>\n",
       "      <th>3</th>\n",
       "      <td>2014-06-24</td>\n",
       "      <td>Inhofe: The Canadians have already had convers...</td>\n",
       "      <td>20546536.0</td>\n",
       "      <td>4.815273e+17</td>\n",
       "      <td>3468157</td>\n",
       "      <td>James M. Inhofe</td>\n",
       "      <td>1934-11-17</td>\n",
       "      <td>Republican</td>\n",
       "      <td>sen</td>\n",
       "      <td>OK</td>\n",
       "      <td>Canada</td>\n",
       "      <td>2 or 3</td>\n",
       "      <td>NaN</td>\n",
       "      <td>2019_batch1</td>\n",
       "      <td>23</td>\n",
       "      <td>B</td>\n",
       "    </tr>\n",
       "    <tr>\n",
       "      <th>4</th>\n",
       "      <td>2015-07-14</td>\n",
       "      <td>Statement on Iran nuclear agreement. http://t....</td>\n",
       "      <td>18773159.0</td>\n",
       "      <td>6.210401e+17</td>\n",
       "      <td>3833428</td>\n",
       "      <td>Scott Perry</td>\n",
       "      <td>1962-05-27</td>\n",
       "      <td>Republican</td>\n",
       "      <td>rep</td>\n",
       "      <td>PA</td>\n",
       "      <td>Iran</td>\n",
       "      <td>2 or 3</td>\n",
       "      <td>NaN</td>\n",
       "      <td>2019_batch1</td>\n",
       "      <td>6</td>\n",
       "      <td>B</td>\n",
       "    </tr>\n",
       "  </tbody>\n",
       "</table>\n",
       "</div>"
      ],
      "text/plain": [
       "        date                                               text   userid_str  \\\n",
       "0 2015-09-28  I commend all of law enforcement for the secur...  156333623.0   \n",
       "1 2019-02-24  Socialist tyrant Maduro starves, tortures his ...  235312723.0   \n",
       "2 2019-02-24  Socialist tyrant Maduro starves, tortures his ...  235312723.0   \n",
       "3 2014-06-24  Inhofe: The Canadians have already had convers...   20546536.0   \n",
       "4 2015-07-14  Statement on Iran nuclear agreement. http://t....   18773159.0   \n",
       "\n",
       "   status_id_str       id              name      birth term_partisanship  \\\n",
       "0   6.485341e+17  3517566          Al Green 1947-09-01          Democrat   \n",
       "1   1.099734e+18  3559992  Scott DesJarlais 1964-02-21        Republican   \n",
       "2   1.099734e+18  3559992  Scott DesJarlais 1964-02-21        Republican   \n",
       "3   4.815273e+17  3468157   James M. Inhofe 1934-11-17        Republican   \n",
       "4   6.210401e+17  3833428       Scott Perry 1962-05-27        Republican   \n",
       "\n",
       "  term_type term_state country  Bucket  SentimentScore      version  \\\n",
       "0       rep         TX   China  2 or 3             NaN  2019_batch1   \n",
       "1       rep         TN   China       1             2.0  2019_batch1   \n",
       "2       rep         TN    Iran  2 or 3             NaN  2019_batch1   \n",
       "3       sen         OK  Canada  2 or 3             NaN  2019_batch1   \n",
       "4       rep         PA    Iran  2 or 3             NaN  2019_batch1   \n",
       "\n",
       "   text_length cleaned_buckets  \n",
       "0           22               B  \n",
       "1           44               A  \n",
       "2           44               B  \n",
       "3           23               B  \n",
       "4            6               B  "
      ]
     },
     "execution_count": 477,
     "metadata": {},
     "output_type": "execute_result"
    }
   ],
   "source": [
    "# data after cleaning\n",
    "print(data.shape)\n",
    "data.head()"
   ]
  },
  {
   "cell_type": "markdown",
   "id": "0a37f0c1",
   "metadata": {},
   "source": [
    "## Exploratory Data Analysis"
   ]
  },
  {
   "cell_type": "code",
   "execution_count": 478,
   "id": "8b2aa490",
   "metadata": {},
   "outputs": [
    {
     "data": {
      "text/plain": [
       "Republican     11131\n",
       "Democrat        4066\n",
       "Independent      108\n",
       "Name: term_partisanship, dtype: int64"
      ]
     },
     "execution_count": 478,
     "metadata": {},
     "output_type": "execute_result"
    }
   ],
   "source": [
    "data.term_partisanship.value_counts()"
   ]
  },
  {
   "cell_type": "code",
   "execution_count": 480,
   "id": "bd88b631",
   "metadata": {},
   "outputs": [
    {
     "data": {
      "text/plain": [
       "(15509, 16)"
      ]
     },
     "execution_count": 480,
     "metadata": {},
     "output_type": "execute_result"
    }
   ],
   "source": [
    "data.shape"
   ]
  },
  {
   "cell_type": "code",
   "execution_count": 365,
   "id": "e14e5917",
   "metadata": {},
   "outputs": [
    {
     "data": {
      "text/plain": [
       "<AxesSubplot:xlabel='term_partisanship', ylabel='count'>"
      ]
     },
     "execution_count": 365,
     "metadata": {},
     "output_type": "execute_result"
    },
    {
     "data": {
      "image/png": "[encoded data removed]",
      "text/plain": [
       "<Figure size 432x288 with 1 Axes>"
      ]
     },
     "metadata": {
      "needs_background": "light"
     },
     "output_type": "display_data"
    }
   ],
   "source": [
    "sns.countplot(data.term_partisanship)"
   ]
  },
  {
   "cell_type": "code",
   "execution_count": 366,
   "id": "edffceca",
   "metadata": {},
   "outputs": [
    {
     "data": {
      "text/plain": [
       "<AxesSubplot:xlabel='country', ylabel='count'>"
      ]
     },
     "execution_count": 366,
     "metadata": {},
     "output_type": "execute_result"
    },
    {
     "data": {
      "image/png": "[encoded data removed]",
      "text/plain": [
       "<Figure size 432x288 with 1 Axes>"
      ]
     },
     "metadata": {
      "needs_background": "light"
     },
     "output_type": "display_data"
    }
   ],
   "source": [
    "sns.countplot(data.country)"
   ]
  },
  {
   "cell_type": "code",
   "execution_count": 487,
   "id": "e309cbd2",
   "metadata": {},
   "outputs": [
    {
     "data": {
      "text/plain": [
       "<AxesSubplot:xlabel='Bucket', ylabel='count'>"
      ]
     },
     "execution_count": 487,
     "metadata": {},
     "output_type": "execute_result"
    },
    {
     "data": {
      "image/png": "[encoded data removed]",
      "text/plain": [
       "<Figure size 432x288 with 1 Axes>"
      ]
     },
     "metadata": {
      "needs_background": "light"
     },
     "output_type": "display_data"
    }
   ],
   "source": [
    "sns.countplot(data.Bucket)"
   ]
  },
  {
   "cell_type": "code",
   "execution_count": 367,
   "id": "979205a7",
   "metadata": {},
   "outputs": [
    {
     "data": {
      "text/plain": [
       "<AxesSubplot:xlabel='SentimentScore', ylabel='Density'>"
      ]
     },
     "execution_count": 367,
     "metadata": {},
     "output_type": "execute_result"
    },
    {
     "data": {
      "image/png": "[encoded data removed]",
      "text/plain": [
       "<Figure size 432x288 with 1 Axes>"
      ]
     },
     "metadata": {
      "needs_background": "light"
     },
     "output_type": "display_data"
    }
   ],
   "source": [
    "sns.distplot(data.SentimentScore)"
   ]
  },
  {
   "cell_type": "code",
   "execution_count": 368,
   "id": "2bc5b7a9",
   "metadata": {},
   "outputs": [
    {
     "data": {
      "text/plain": [
       "<AxesSubplot:>"
      ]
     },
     "execution_count": 368,
     "metadata": {},
     "output_type": "execute_result"
    },
    {
     "data": {
      "image/png": "[encoded data removed]",
      "text/plain": [
       "<Figure size 432x288 with 1 Axes>"
      ]
     },
     "metadata": {
      "needs_background": "light"
     },
     "output_type": "display_data"
    }
   ],
   "source": [
    "pd.to_datetime(data.birth).hist()"
   ]
  },
  {
   "cell_type": "code",
   "execution_count": 369,
   "id": "d7bf4b56",
   "metadata": {},
   "outputs": [
    {
     "data": {
      "text/plain": [
       "<AxesSubplot:>"
      ]
     },
     "execution_count": 369,
     "metadata": {},
     "output_type": "execute_result"
    },
    {
     "data": {
      "image/png": "[encoded data removed]",
      "text/plain": [
       "<Figure size 432x288 with 1 Axes>"
      ]
     },
     "metadata": {
      "needs_background": "light"
     },
     "output_type": "display_data"
    }
   ],
   "source": [
    "data['text_length'].hist()"
   ]
  },
  {
   "cell_type": "markdown",
   "id": "e89df943",
   "metadata": {},
   "source": [
    "## Modeling"
   ]
  },
  {
   "cell_type": "markdown",
   "id": "4793bf3b",
   "metadata": {},
   "source": [
    "### Text Preprocessing"
   ]
  },
  {
   "cell_type": "code",
   "execution_count": 382,
   "id": "2e9cf861",
   "metadata": {},
   "outputs": [
    {
     "data": {
      "text/plain": [
       "A    8719\n",
       "B    3130\n",
       "Name: cleaned_buckets, dtype: int64"
      ]
     },
     "execution_count": 382,
     "metadata": {},
     "output_type": "execute_result"
    }
   ],
   "source": [
    "# select China-related tweets only\n",
    "df = data[data['country']=='China']\n",
    "df.cleaned_buckets.value_counts()"
   ]
  },
  {
   "cell_type": "code",
   "execution_count": 383,
   "id": "82daf516",
   "metadata": {},
   "outputs": [
    {
     "data": {
      "text/plain": [
       "0        I commend all of law enforcement for the secur...\n",
       "1        Socialist tyrant Maduro starves, tortures his ...\n",
       "7        Russia, China, India, Pakistan, North Korea, I...\n",
       "10       Ileana Ros-Lehtinen, Ted Yoho Condemn China's ...\n",
       "12       Inhofe: So if the oil doesn’t come to the Unit...\n",
       "                               ...                        \n",
       "15504    Is it fair to make the assessment that China h...\n",
       "15505    American citizen @BobFu4China, who has been a ...\n",
       "15506    The inclusion of those products in #GSP would ...\n",
       "15507    Join me THURSDAY at 9:00 AM CT on Facebook LIV...\n",
       "15508    The Commitment to American GROWTH Act is a key...\n",
       "Name: text, Length: 11849, dtype: object"
      ]
     },
     "execution_count": 383,
     "metadata": {},
     "output_type": "execute_result"
    }
   ],
   "source": [
    "# peek at the raw text\n",
    "df.text"
   ]
  },
  {
   "cell_type": "code",
   "execution_count": 384,
   "id": "8d96b2c3",
   "metadata": {},
   "outputs": [],
   "source": [
    "# function for text cleaning\n",
    "def process_text(text):\n",
    "    # if is Nan\n",
    "    if type(text)==np.float: \n",
    "        return \"\"\n",
    "    \n",
    "    # uniform format\n",
    "    temp = text.lower().replace(\"\\n\",\"\")\n",
    "    # remove hyperlinks\n",
    "    temp = ' '.join([x for x in temp.split() if not ('http' in x or 'www' in x)]).split()\n",
    "\n",
    "    # filtering characters\n",
    "    special_chars = list(\"~!@#$%^&*()_+-={}[]\\|<>?.,;:`\") # special characters\n",
    "    res = []\n",
    "    for word in temp:\n",
    "        for i in special_chars:\n",
    "            word = word.replace(i,'')\n",
    "        res.append(word)\n",
    "\n",
    "    # remove stopwords\n",
    "    sw = stopwords.words('english')                   # english stopwords\n",
    "    res = [i for i in res if x not in sw]\n",
    "\n",
    "    return \" \".join(res)"
   ]
  },
  {
   "cell_type": "code",
   "execution_count": 385,
   "id": "a9ba83b9",
   "metadata": {},
   "outputs": [],
   "source": [
    "df[\"cleaned_text\"] = df['text'].apply(lambda x: process_text(x))"
   ]
  },
  {
   "cell_type": "markdown",
   "id": "9ff80303",
   "metadata": {},
   "source": [
    "### Relevance Bucket Predicting (Classification)"
   ]
  },
  {
   "cell_type": "code",
   "execution_count": 386,
   "id": "25d6fed7",
   "metadata": {},
   "outputs": [
    {
     "data": {
      "text/html": [
       "<div>\n",
       "<style scoped>\n",
       "    .dataframe tbody tr th:only-of-type {\n",
       "        vertical-align: middle;\n",
       "    }\n",
       "\n",
       "    .dataframe tbody tr th {\n",
       "        vertical-align: top;\n",
       "    }\n",
       "\n",
       "    .dataframe thead th {\n",
       "        text-align: right;\n",
       "    }\n",
       "</style>\n",
       "<table border=\"1\" class=\"dataframe\">\n",
       "  <thead>\n",
       "    <tr style=\"text-align: right;\">\n",
       "      <th></th>\n",
       "      <th>cleaned_text</th>\n",
       "      <th>cleaned_buckets</th>\n",
       "    </tr>\n",
       "  </thead>\n",
       "  <tbody>\n",
       "    <tr>\n",
       "      <th>0</th>\n",
       "      <td>i commend all of law enforcement for the secur...</td>\n",
       "      <td>B</td>\n",
       "    </tr>\n",
       "    <tr>\n",
       "      <th>1</th>\n",
       "      <td>socialist tyrant maduro starves tortures his p...</td>\n",
       "      <td>A</td>\n",
       "    </tr>\n",
       "    <tr>\n",
       "      <th>2</th>\n",
       "      <td>russia china india pakistan north korea iran a...</td>\n",
       "      <td>A</td>\n",
       "    </tr>\n",
       "    <tr>\n",
       "      <th>3</th>\n",
       "      <td>ileana roslehtinen ted yoho condemn china's tr...</td>\n",
       "      <td>A</td>\n",
       "    </tr>\n",
       "    <tr>\n",
       "      <th>4</th>\n",
       "      <td>inhofe so if the oil doesn’t come to the unite...</td>\n",
       "      <td>B</td>\n",
       "    </tr>\n",
       "  </tbody>\n",
       "</table>\n",
       "</div>"
      ],
      "text/plain": [
       "                                        cleaned_text cleaned_buckets\n",
       "0  i commend all of law enforcement for the secur...               B\n",
       "1  socialist tyrant maduro starves tortures his p...               A\n",
       "2  russia china india pakistan north korea iran a...               A\n",
       "3  ileana roslehtinen ted yoho condemn china's tr...               A\n",
       "4  inhofe so if the oil doesn’t come to the unite...               B"
      ]
     },
     "execution_count": 386,
     "metadata": {},
     "output_type": "execute_result"
    }
   ],
   "source": [
    "# filter out irrelevant data\n",
    "df_bkt = df[['cleaned_text', 'cleaned_buckets']]\n",
    "df_bkt.drop_duplicates(inplace=True, ignore_index=True)\n",
    "df_bkt.head()"
   ]
  },
  {
   "cell_type": "code",
   "execution_count": 387,
   "id": "039dd9af",
   "metadata": {},
   "outputs": [
    {
     "data": {
      "text/plain": [
       "A    8077\n",
       "B    3014\n",
       "Name: cleaned_buckets, dtype: int64"
      ]
     },
     "execution_count": 387,
     "metadata": {},
     "output_type": "execute_result"
    }
   ],
   "source": [
    "df_bkt.cleaned_buckets.value_counts()"
   ]
  },
  {
   "cell_type": "code",
   "execution_count": 388,
   "id": "f4b27d66",
   "metadata": {},
   "outputs": [
    {
     "data": {
      "text/plain": [
       "(6000, 2)"
      ]
     },
     "execution_count": 388,
     "metadata": {},
     "output_type": "execute_result"
    }
   ],
   "source": [
    "# balance class\n",
    "df_bkt_A = df_bkt[df_bkt.cleaned_buckets=='A']\n",
    "df_bkt_B = df_bkt[df_bkt.cleaned_buckets=='B']\n",
    "\n",
    "df_bkt_A_sample = resample(df_bkt_A, replace=False, n_samples=3000, random_state=0)\n",
    "df_bkt_B_sample = resample(df_bkt_B, replace=False, n_samples=3000, random_state=0)\n",
    "df_bkt_final = pd.concat([df_bkt_A_sample, df_bkt_B_sample])\n",
    "df_bkt_final.shape"
   ]
  },
  {
   "cell_type": "code",
   "execution_count": 389,
   "id": "f367686a",
   "metadata": {},
   "outputs": [
    {
     "data": {
      "text/html": [
       "<div>\n",
       "<style scoped>\n",
       "    .dataframe tbody tr th:only-of-type {\n",
       "        vertical-align: middle;\n",
       "    }\n",
       "\n",
       "    .dataframe tbody tr th {\n",
       "        vertical-align: top;\n",
       "    }\n",
       "\n",
       "    .dataframe thead th {\n",
       "        text-align: right;\n",
       "    }\n",
       "</style>\n",
       "<table border=\"1\" class=\"dataframe\">\n",
       "  <thead>\n",
       "    <tr style=\"text-align: right;\">\n",
       "      <th></th>\n",
       "      <th>cleaned_text</th>\n",
       "      <th>cleaned_buckets</th>\n",
       "    </tr>\n",
       "  </thead>\n",
       "  <tbody>\n",
       "    <tr>\n",
       "      <th>7867</th>\n",
       "      <td>big policy victory 👀sen rubio secured a provis...</td>\n",
       "      <td>A</td>\n",
       "    </tr>\n",
       "    <tr>\n",
       "      <th>10150</th>\n",
       "      <td>here’s where senate gop stand✔️ prochina✔️ pro...</td>\n",
       "      <td>A</td>\n",
       "    </tr>\n",
       "    <tr>\n",
       "      <th>2732</th>\n",
       "      <td>great to be on with trish regan talking about ...</td>\n",
       "      <td>A</td>\n",
       "    </tr>\n",
       "    <tr>\n",
       "      <th>4425</th>\n",
       "      <td>as beijingbacked forces cross violent new thre...</td>\n",
       "      <td>A</td>\n",
       "    </tr>\n",
       "    <tr>\n",
       "      <th>6002</th>\n",
       "      <td>if we don't fully embrace the nuclear renaissa...</td>\n",
       "      <td>A</td>\n",
       "    </tr>\n",
       "  </tbody>\n",
       "</table>\n",
       "</div>"
      ],
      "text/plain": [
       "                                            cleaned_text cleaned_buckets\n",
       "7867   big policy victory 👀sen rubio secured a provis...               A\n",
       "10150  here’s where senate gop stand✔️ prochina✔️ pro...               A\n",
       "2732   great to be on with trish regan talking about ...               A\n",
       "4425   as beijingbacked forces cross violent new thre...               A\n",
       "6002   if we don't fully embrace the nuclear renaissa...               A"
      ]
     },
     "execution_count": 389,
     "metadata": {},
     "output_type": "execute_result"
    }
   ],
   "source": [
    "df_bkt_final.head()"
   ]
  },
  {
   "cell_type": "code",
   "execution_count": 390,
   "id": "02a9a418",
   "metadata": {},
   "outputs": [],
   "source": [
    "# split data\n",
    "X = df_bkt_final.cleaned_text.to_frame()\n",
    "y = df_bkt_final.cleaned_buckets.to_frame()\n",
    "\n",
    "X_train, X_test, y_train, y_test = train_test_split(X, y, test_size=0.2, random_state=42)"
   ]
  },
  {
   "cell_type": "code",
   "execution_count": 421,
   "id": "bf398929",
   "metadata": {},
   "outputs": [],
   "source": [
    "def model_1(X_train, y_train):\n",
    "    preprocessor = ColumnTransformer(\n",
    "        transformers=[\n",
    "            (\"bog\", CountVectorizer(), 'cleaned_text'),]\n",
    "            #(\"tfidf\", TfidfVectorizer(), 'cleaned_text')]\n",
    "    )\n",
    "\n",
    "    clf = SVC(random_state=0)\n",
    "    #clf = RandomForestClassifier()\n",
    "\n",
    "    pl = Pipeline([\n",
    "                    ('preprocessor', preprocessor),\n",
    "                    ('clf', OneVsRestClassifier(clf, n_jobs=1)),\n",
    "                ])\n",
    "\n",
    "    pl.fit(X_train, y_train)\n",
    "    return pl"
   ]
  },
  {
   "cell_type": "code",
   "execution_count": 422,
   "id": "f91b9033",
   "metadata": {
    "scrolled": true
   },
   "outputs": [],
   "source": [
    "pl = model_1(X_train, y_train)\n",
    "preds = pl.predict(X_test)"
   ]
  },
  {
   "cell_type": "code",
   "execution_count": 423,
   "id": "74b9161c",
   "metadata": {},
   "outputs": [
    {
     "name": "stdout",
     "output_type": "stream",
     "text": [
      "Accuracy:  0.7083333333333334\n",
      "Confusion Matrix: \n",
      "[[457 156]\n",
      " [194 393]]\n",
      "Precision: 0.7019969278033794\n",
      "Recall:    0.7455138662316476\n",
      "F1 score:  0.7231012658227849\n"
     ]
    }
   ],
   "source": [
    "print('Accuracy:  ' + str(accuracy_score(y_test, preds)))\n",
    "print('Confusion Matrix: \\n' + str(confusion_matrix(y_test, preds)))\n",
    "res = precision_recall_fscore_support(y_test, preds,average='binary',pos_label='A')\n",
    "print('Precision: ' + str(res[0]))\n",
    "print('Recall:    ' + str(res[1]))\n",
    "print('F1 score:  ' + str(res[2]))"
   ]
  },
  {
   "cell_type": "markdown",
   "id": "4244161a",
   "metadata": {},
   "source": [
    "### Sentiment Score Predicting (Regression)"
   ]
  },
  {
   "cell_type": "code",
   "execution_count": 459,
   "id": "f8801ea8",
   "metadata": {},
   "outputs": [
    {
     "data": {
      "text/html": [
       "<div>\n",
       "<style scoped>\n",
       "    .dataframe tbody tr th:only-of-type {\n",
       "        vertical-align: middle;\n",
       "    }\n",
       "\n",
       "    .dataframe tbody tr th {\n",
       "        vertical-align: top;\n",
       "    }\n",
       "\n",
       "    .dataframe thead th {\n",
       "        text-align: right;\n",
       "    }\n",
       "</style>\n",
       "<table border=\"1\" class=\"dataframe\">\n",
       "  <thead>\n",
       "    <tr style=\"text-align: right;\">\n",
       "      <th></th>\n",
       "      <th>cleaned_text</th>\n",
       "      <th>SentimentScore</th>\n",
       "    </tr>\n",
       "  </thead>\n",
       "  <tbody>\n",
       "    <tr>\n",
       "      <th>1</th>\n",
       "      <td>socialist tyrant maduro starves tortures his p...</td>\n",
       "      <td>2.0</td>\n",
       "    </tr>\n",
       "    <tr>\n",
       "      <th>2</th>\n",
       "      <td>russia china india pakistan north korea iran a...</td>\n",
       "      <td>2.0</td>\n",
       "    </tr>\n",
       "    <tr>\n",
       "      <th>3</th>\n",
       "      <td>ileana roslehtinen ted yoho condemn china's tr...</td>\n",
       "      <td>1.5</td>\n",
       "    </tr>\n",
       "    <tr>\n",
       "      <th>5</th>\n",
       "      <td>breaking in oval office meeting today the chin...</td>\n",
       "      <td>4.5</td>\n",
       "    </tr>\n",
       "    <tr>\n",
       "      <th>6</th>\n",
       "      <td>breaking in oval office meeting today the chin...</td>\n",
       "      <td>4.0</td>\n",
       "    </tr>\n",
       "  </tbody>\n",
       "</table>\n",
       "</div>"
      ],
      "text/plain": [
       "                                        cleaned_text  SentimentScore\n",
       "1  socialist tyrant maduro starves tortures his p...             2.0\n",
       "2  russia china india pakistan north korea iran a...             2.0\n",
       "3  ileana roslehtinen ted yoho condemn china's tr...             1.5\n",
       "5  breaking in oval office meeting today the chin...             4.5\n",
       "6  breaking in oval office meeting today the chin...             4.0"
      ]
     },
     "execution_count": 459,
     "metadata": {},
     "output_type": "execute_result"
    }
   ],
   "source": [
    "# filter out irrelevant data\n",
    "df_ss = df[['cleaned_text', 'SentimentScore']]\n",
    "df_ss.drop_duplicates(inplace=True, ignore_index=True)\n",
    "df_ss.dropna(inplace=True)\n",
    "df_ss = df_ss[df_ss['SentimentScore']<=5]\n",
    "df_ss['SentimentScore'] = df_ss['SentimentScore'].astype(float)\n",
    "df_ss.head()"
   ]
  },
  {
   "cell_type": "code",
   "execution_count": 455,
   "id": "c61474bc",
   "metadata": {
    "scrolled": false
   },
   "outputs": [
    {
     "data": {
      "text/plain": [
       "(9187, 2)"
      ]
     },
     "execution_count": 455,
     "metadata": {},
     "output_type": "execute_result"
    }
   ],
   "source": [
    "df_ss.shape"
   ]
  },
  {
   "cell_type": "code",
   "execution_count": 461,
   "id": "5cb4c921",
   "metadata": {},
   "outputs": [],
   "source": [
    "# split data\n",
    "X = df_ss.cleaned_text.to_frame()\n",
    "y = df_ss.SentimentScore.to_frame()\n",
    "\n",
    "X_train, X_test, y_train, y_test = train_test_split(X, y, test_size=0.2, random_state=42)\n",
    "y_train = y_train.astype('float32')\n",
    "y_test = y_test.astype('float32')"
   ]
  },
  {
   "cell_type": "code",
   "execution_count": 464,
   "id": "63b20d12",
   "metadata": {},
   "outputs": [],
   "source": [
    "def model_2(X_train, y_train):\n",
    "    preprocessor = ColumnTransformer(\n",
    "        transformers=[\n",
    "            (\"bog\", CountVectorizer(), 'cleaned_text'),\n",
    "            (\"tfidf\", TfidfVectorizer(), 'cleaned_text')]\n",
    "    )\n",
    "\n",
    "    #reg = GradientBoostingRegressor()\n",
    "    reg = LGBMRegressor()\n",
    "    #reg = ElasticNet()\n",
    "\n",
    "    pl = Pipeline([\n",
    "                    ('preprocessor', preprocessor),\n",
    "                    ('reg', reg),\n",
    "                ])\n",
    "\n",
    "    pl.fit(X_train, y_train)\n",
    "    return pl"
   ]
  },
  {
   "cell_type": "code",
   "execution_count": 465,
   "id": "68d4adfa",
   "metadata": {},
   "outputs": [
    {
     "name": "stdout",
     "output_type": "stream",
     "text": [
      "MSE:  0.27701139340384334\n"
     ]
    }
   ],
   "source": [
    "pl = model_2(X_train, y_train)\n",
    "preds = pl.predict(X_test)\n",
    "print('MSE:  ' + str(mean_squared_error(y_test, preds)))"
   ]
  }
 ],
 "metadata": {
  "kernelspec": {
   "display_name": "Python 3 (ipykernel)",
   "language": "python",
   "name": "python3"
  },
  "language_info": {
   "codemirror_mode": {
    "name": "ipython",
    "version": 3
   },
   "file_extension": ".py",
   "mimetype": "text/x-python",
   "name": "python",
   "nbconvert_exporter": "python",
   "pygments_lexer": "ipython3",
   "version": "3.9.7"
  }
 },
 "nbformat": 4,
 "nbformat_minor": 5
}
